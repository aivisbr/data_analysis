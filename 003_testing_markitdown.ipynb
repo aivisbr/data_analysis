{
 "cells": [
  {
   "cell_type": "markdown",
   "metadata": {},
   "source": [
    "# Testing MarkItDown\n",
    "- https://github.com/microsoft/markitdown\n",
    "- https://pypi.org/project/markitdown/"
   ]
  },
  {
   "cell_type": "code",
   "execution_count": null,
   "metadata": {},
   "outputs": [],
   "source": [
    "!pip install markitdown"
   ]
  },
  {
   "cell_type": "code",
   "execution_count": 1,
   "metadata": {},
   "outputs": [],
   "source": [
    "from markitdown import MarkItDown"
   ]
  },
  {
   "cell_type": "code",
   "execution_count": 2,
   "metadata": {},
   "outputs": [
    {
     "name": "stdout",
     "output_type": "stream",
     "text": [
      "## TOP 5 iestādes_2021_4_cet\n",
      "| Unnamed: 0 | Unnamed: 1 | Unnamed: 2 | Unnamed: 3 | Unnamed: 4 | Unnamed: 5 |\n",
      "| --- | --- | --- | --- | --- | --- |\n",
      "| NaN | NaN | NaN | NaN | NaN | NaN |\n",
      "| NaN | NaN | NaN | NaN | NaN | NaN |\n",
      "| NaN | NaN | NaN | NaN | NaN | NaN |\n",
      "| NaN | NaN | NaN | NaN | NaN | NaN |\n",
      "| NaN | NaN | NaN | NaN | NaN | NaN |\n",
      "| NaN | NaN | NaN | NaN | NaN | NaN |\n",
      "| NaN | NaN | NaN | NaN | NaN | NaN |\n",
      "| NaN | NaN | NaN | NaN | NaN | NaN |\n",
      "| TOP 5 lielākās iestādes, kuras publicējušas visvairāk rezultātu publikācijas Publisko iepirkumu likuma kārtībā (2021.gada 4.ceturksnis) | NaN | NaN | NaN | NaN | NaN |\n",
      "| NaN | NaN | NaN | NaN | NaN | NaN |\n",
      "| Nr.p.k. | Iestādes | Rezultātu publikāciju skaits | NaN | NaN | NaN |\n",
      "| NaN | NaN | Būvdarbi | Preces | Pakalpojumi | Kopā |\n",
      "| 1 | AS \"Latvijas valsts meži\" | 48 | 9 | 21 | 78 |\n",
      "| 1 | VSIA „Paula Stradiņa klīniskā universitātes slimnīca” | 2 | 63 | 13 | 78 |\n",
      "| 2 | SIA „Rīgas Austrumu klīniskā universitātes slimnīca” | 10 | 38 | 8 | 56 |\n",
      "| 3 | \\tRīgas Stradiņa universitāte | 2 | 34 | 11 | 47 |\n",
      "| 4 | Rēzeknes pilsētas dome | 2 | 31 | 13 | 46 |\n",
      "| 5 | Daugavpils pilsētas pašvaldība | 8 | 21 | 16 | 45 |\n"
     ]
    }
   ],
   "source": [
    "md = MarkItDown()\n",
    "result = md.convert(\"publikaciju-top-5-iestdes-pil-2021-4-cet.xlsx\")\n",
    "print(result.text_content)"
   ]
  },
  {
   "cell_type": "markdown",
   "metadata": {},
   "source": [
    "Save result:"
   ]
  },
  {
   "cell_type": "code",
   "execution_count": 8,
   "metadata": {},
   "outputs": [],
   "source": [
    "# Write the content to the file\n",
    "with open('publikaciju-top-5-iestades-pil-2021Q4.md', \"w\", encoding=\"utf-8\") as file:\n",
    "    file.write(result.text_content)"
   ]
  }
 ],
 "metadata": {
  "kernelspec": {
   "display_name": ".env",
   "language": "python",
   "name": "python3"
  },
  "language_info": {
   "codemirror_mode": {
    "name": "ipython",
    "version": 3
   },
   "file_extension": ".py",
   "mimetype": "text/x-python",
   "name": "python",
   "nbconvert_exporter": "python",
   "pygments_lexer": "ipython3",
   "version": "3.12.4"
  }
 },
 "nbformat": 4,
 "nbformat_minor": 2
}
