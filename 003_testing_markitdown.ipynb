{
 "cells": [
  {
   "cell_type": "markdown",
   "metadata": {},
   "source": [
    "# Testing MarkItDown\n",
    "- https://github.com/microsoft/markitdown\n",
    "- https://pypi.org/project/markitdown/"
   ]
  },
  {
   "cell_type": "markdown",
   "metadata": {},
   "source": [
    "`markitdown` version: 0.0.1a3 is used in these examples."
   ]
  },
  {
   "cell_type": "code",
   "execution_count": null,
   "metadata": {},
   "outputs": [],
   "source": [
    "!pip install markitdown"
   ]
  },
  {
   "cell_type": "code",
   "execution_count": 1,
   "metadata": {},
   "outputs": [],
   "source": [
    "from markitdown import MarkItDown"
   ]
  },
  {
   "cell_type": "markdown",
   "metadata": {},
   "source": [
    "## **.xlsx** to markdown"
   ]
  },
  {
   "cell_type": "markdown",
   "metadata": {},
   "source": [
    ".xlsx file source - [LV open data portal](https://data.gov.lv/dati/lv/dataset/publisko-iepirkumu-likuma-publikaciju-raditaji/resource/db8015e9-c7c0-46c4-a5e4-6614ae54e526)"
   ]
  },
  {
   "cell_type": "code",
   "execution_count": 2,
   "metadata": {},
   "outputs": [
    {
     "name": "stdout",
     "output_type": "stream",
     "text": [
      "## TOP 5 iestādes_2021_4_cet\n",
      "| Unnamed: 0 | Unnamed: 1 | Unnamed: 2 | Unnamed: 3 | Unnamed: 4 | Unnamed: 5 |\n",
      "| --- | --- | --- | --- | --- | --- |\n",
      "| NaN | NaN | NaN | NaN | NaN | NaN |\n",
      "| NaN | NaN | NaN | NaN | NaN | NaN |\n",
      "| NaN | NaN | NaN | NaN | NaN | NaN |\n",
      "| NaN | NaN | NaN | NaN | NaN | NaN |\n",
      "| NaN | NaN | NaN | NaN | NaN | NaN |\n",
      "| NaN | NaN | NaN | NaN | NaN | NaN |\n",
      "| NaN | NaN | NaN | NaN | NaN | NaN |\n",
      "| NaN | NaN | NaN | NaN | NaN | NaN |\n",
      "| TOP 5 lielākās iestādes, kuras publicējušas visvairāk rezultātu publikācijas Publisko iepirkumu likuma kārtībā (2021.gada 4.ceturksnis) | NaN | NaN | NaN | NaN | NaN |\n",
      "| NaN | NaN | NaN | NaN | NaN | NaN |\n",
      "| Nr.p.k. | Iestādes | Rezultātu publikāciju skaits | NaN | NaN | NaN |\n",
      "| NaN | NaN | Būvdarbi | Preces | Pakalpojumi | Kopā |\n",
      "| 1 | AS \"Latvijas valsts meži\" | 48 | 9 | 21 | 78 |\n",
      "| 1 | VSIA „Paula Stradiņa klīniskā universitātes slimnīca” | 2 | 63 | 13 | 78 |\n",
      "| 2 | SIA „Rīgas Austrumu klīniskā universitātes slimnīca” | 10 | 38 | 8 | 56 |\n",
      "| 3 | \\tRīgas Stradiņa universitāte | 2 | 34 | 11 | 47 |\n",
      "| 4 | Rēzeknes pilsētas dome | 2 | 31 | 13 | 46 |\n",
      "| 5 | Daugavpils pilsētas pašvaldība | 8 | 21 | 16 | 45 |\n"
     ]
    }
   ],
   "source": [
    "md = MarkItDown()\n",
    "result = md.convert(\"publikaciju-top-5-iestdes-pil-2021-4-cet.xlsx\")\n",
    "print(result.text_content)"
   ]
  },
  {
   "cell_type": "markdown",
   "metadata": {},
   "source": [
    "Save result:"
   ]
  },
  {
   "cell_type": "code",
   "execution_count": 8,
   "metadata": {},
   "outputs": [],
   "source": [
    "# Write the content to the file\n",
    "with open('publikaciju-top-5-iestades-pil-2021Q4.md', \"w\", encoding=\"utf-8\") as file:\n",
    "    file.write(result.text_content)"
   ]
  },
  {
   "cell_type": "markdown",
   "metadata": {},
   "source": [
    "## OpenAI image description using `MarkItDown` as an input"
   ]
  },
  {
   "cell_type": "code",
   "execution_count": 3,
   "metadata": {},
   "outputs": [],
   "source": [
    "import keyring # pip install keyring\n",
    "from openai import OpenAI # pip install openai"
   ]
  },
  {
   "cell_type": "code",
   "execution_count": null,
   "metadata": {},
   "outputs": [
    {
     "name": "stdout",
     "output_type": "stream",
     "text": [
      "\n",
      "# Description:\n",
      "The image illustrates a conversion process from multiple file formats to Markdown. On the left, a cluster of icons represents various file types, including HTML, CSV, XML, images, audio, PDF, PowerPoint, JSON, Word, and Excel. An arrow points from these diverse formats to a single Markdown icon on the right, symbolizing the unification or transformation of different document types into the Markdown format. This depiction emphasizes Markdown's versatility in handling a wide range of data inputs for simplified text formatting and presentation.\n",
      "\n"
     ]
    }
   ],
   "source": [
    "client = OpenAI(api_key=keyring.get_password('OpenAI_API_key', 'Medium_API_test'))\n",
    "md = MarkItDown(llm_client=client, llm_model=\"gpt-4o\")\n",
    "result = md.convert(\"01_Titulbilde.png\")\n",
    "print(result.text_content)"
   ]
  },
  {
   "cell_type": "markdown",
   "metadata": {},
   "source": [
    "## **HTML** to markdown"
   ]
  },
  {
   "cell_type": "code",
   "execution_count": 4,
   "metadata": {},
   "outputs": [],
   "source": [
    "result = md.convert_url('https://www.delfi.lv/193/politics/120055869/video-rinkevics-gadumijas-uzruna-aicina-iedzivotajus-nemt-savu-dzivi-savas-rokas')"
   ]
  },
  {
   "cell_type": "code",
   "execution_count": 5,
   "metadata": {},
   "outputs": [
    {
     "name": "stdout",
     "output_type": "stream",
     "text": [
      "\n",
      "\n",
      "* T, 1. janvāris\n",
      "* [Laimnesis, Solvita, Solvija](https://www.delfi.lv)\n",
      "\n",
      "* [Kontakti](https://www.delfi.lv/kontakti)\n",
      "* [Reklāma](https://reklama.delfi.lv/)\n",
      "\n",
      "* [Ziņas](https://www.delfi.lv/zinas)\n",
      "* [Bizness](https://www.delfi.lv/bizness)\n",
      "* [Life](https://www.delfi.lv/life)\n",
      "* [Sports](/sports)\n",
      "* [Kultūra](/kultura)\n",
      "* [Auto](/auto)\n",
      "* [Tasty](/tasty)\n",
      "* [Delfi TV](/video)\n",
      "[Delfi](/)Saglabāt rakstuDalīties[Viedokļi](/193/politics/120055869/video-rinkevics-gadumijas-uzruna-aicina-iedzivotajus-nemt-savu-dzivi-savas-rokas/comments)\n",
      "## Sabiedrība\n",
      "\n",
      "01.01.2025 00:01:33\n",
      "# Video: Rinkēvičs gadumijas uzrunā aicina iedzīvotājus \"ņemt savu dzīvi savās rokās\" [(30)](https://www.delfi.lv/193/politics/120055869/video-rinkevics-gadumijas-uzruna-aicina-iedzivotajus-nemt-savu-dzivi-savas-rokas/comments)\n",
      "\n",
      "LETA![Edgars Rinkēvičs](https://images.delfi.lv/media-api-image-cropper/v1/2c1acf40-0ad7-49f5-9268-e6ef12b7cb34.jpg?w=576&h=324&r=16:9 \"Edgars Rinkēvičs\")\n",
      "\n",
      "Foto: Foto: Jānis Deinats, Valsts prezidenta kanceleja\n",
      "\n",
      "Valsts prezidents Edgars Rinkēvičs savā gadumijas uzrunā aicināja Latvijas iedzīvotājus nesēdēt rokas klēpī salikušiem, bet ņemt savu dzīvi savās rokās.\n",
      "\n",
      "Valsts prezidents norādīja, ka ir dažādi iemesli, kāpēc mazos un lielos mērķus var nesasniegt. Viņaprāt, lielākais un svarīgākais iemesls ir nemēģināšana, tāpēc ir jāmēģina.\n",
      "\n",
      "Viņš uzsvēra, ka labāk ir smelt izlietu ūdeni, nevis staigāt ap spaini un neuzzināt, kas tur iekšā. Gadumijas uzrunā Rinkēvičs pieminēja latviešu tautas pasakas, uzsverot, ka tajās ir daudz vērtīgā un tās māca labestību, kā arī pazemību. Turklāt tās aicina neskatīties uz ārieni, bet ieraudzīt cilvēka personību.\n",
      "\n",
      "\"Ir laiks atmest tik pierasto \"Kā būs, tā būs\". Nē. Nevis būs tā, kā būs. Bet būs tā, kā mēs lemsim un kā mēs darīsim. Mums nav vajadzīgs vienmēr klātesošais \"Nu, ko tad es\". Tā vietā lai nāk \"Tieši es!\". Iztiksim bez tik ērtā \"Es jau neko\". Nevis \"es jau neko\", bet \"es varu un daru\",\" akcentēja Valsts prezidents.\n",
      "\n",
      "Tāpat viņš aicināja nesamierināties ar netaisnību, nedarīt tikai \"mīļā miera labad\", jo patiess miers var pastāvēt tikai tad, ja tas ir balstīts taisnīgumā. Viņaprāt, ir laiks atmest uzskatu, ka nevajadzētu lēkt uz ecēšām, jo dažreiz ir jālec un tieši uz ecēšām. Prezidents akcentēja, ka pats galvenais ir lekt tur, kur \"paši lemsim lēkt, tik augstu un tik tālu, kā paši nolemsim\".\n",
      "\n",
      "Rinkēvičs arī norādīja, ka mums nav bezpalīdzīgi jāplūst pa straumi, jo šī straume ir jāveido pašiem. Viņš uzsvēra, ka Latvijā ir cilvēki, kas var radīt tādu \"Straumi\", kurai seko visā pasaulē. Prezidenta ieskatā tas nav pārsteigums, bet likumsakarība, par ko viņš priecājas.\n",
      "\n",
      "\"Nākamajā gadā veidosim jaunus stāstus un jaunus sapņus. Par mums. Par Latviju. Par mūsu laika brīnumiem - par uzņēmīgiem cilvēkiem, par drosmīgiem cilvēkiem, par neatlaidīgiem cilvēkiem, par mīlošiem cilvēkiem,\" pauda Valsts prezidents.\n",
      "\n",
      "Viņš aicināja rakstīt Latvijas stāstu, kurā izceļam nevis citu kļūdas, bet gan savus darbus, tādu stāstu, kurā lēmumus pieņemam mēs paši un arī kura galvenie varoņi esam mēs paši.\n",
      "\n",
      "\"Stāstu, kurā pareizs laiks vienmēr ir mūsu laiks. Mūsu Latvijas un mūsu cilvēku laiks. Tad tā vairs nebūs nekāda pasaka, bet īstenība,\" uzsvēra Valsts prezidents, novēlot daudz prieka un gandarījuma jaunajā 2025. gadā.\n",
      "\n",
      "[Valsts prezidents](//delfi.lv/temas/40942801/valsts-prezidents)[Edgars Rinkēvičs](//delfi.lv/temas/41374559/edgars-rinkevics)[Valsts prezidenta kanceleja](//delfi.lv/temas/43002592/valsts-prezidenta-kanceleja)\n",
      "\n",
      "Seko \"Delfi\" arī [Instagram](https://www.instagram.com/delfi.lv/) vai [YouTube](https://www.youtube.com/channel/UCw5foWtcJvAbUm64rv7jwUQ) profilā – pievienojies, lai uzzinātu svarīgāko un interesantāko pirmais!\n",
      "\n",
      "Publikācijas saturs vai tās jebkāda apjoma daļa ir aizsargāts autortiesību objekts Autortiesību likuma izpratnē, un tā izmantošana bez izdevēja atļaujas ir aizliegta. Vairāk lasi [šeit](https://www.delfi.lv/noteikumi#autortiesibas)\n",
      "###### LASI VĒL\n",
      "\n",
      "[![\"Latviju veido tās cilvēki, viņu sapņi un darbi,\" gadumijas uzrunā uzsver Siliņa](https://images.delfi.lv/media-api-image-cropper/v1/2002bada-f66d-4ac3-9fa4-3e90707ab55f.jpg?w=200&h=200 \"\\\"Latviju veido tās cilvēki, viņu sapņi un darbi,\\\" gadumijas uzrunā uzsver Siliņa\")](https://www.delfi.lv/193/politics/120055672/latviju-veido-tas-cilveki-vinu-sapni-un-darbi-gadumijas-uzruna-uzsver-silina)\n",
      "#### [\"Latviju veido tās cilvēki, viņu sapņi un darbi,\" gadumijas uzrunā uzsver Siliņa](https://www.delfi.lv/193/politics/120055672/latviju-veido-tas-cilveki-vinu-sapni-un-darbi-gadumijas-uzruna-uzsver-silina)[(14)](https://www.delfi.lv/193/politics/120055672/latviju-veido-tas-cilveki-vinu-sapni-un-darbi-gadumijas-uzruna-uzsver-silina/comments)\n",
      "\n",
      "\n"
     ]
    }
   ],
   "source": [
    "print(result.text_content)"
   ]
  }
 ],
 "metadata": {
  "kernelspec": {
   "display_name": ".env",
   "language": "python",
   "name": "python3"
  },
  "language_info": {
   "codemirror_mode": {
    "name": "ipython",
    "version": 3
   },
   "file_extension": ".py",
   "mimetype": "text/x-python",
   "name": "python",
   "nbconvert_exporter": "python",
   "pygments_lexer": "ipython3",
   "version": "3.12.4"
  }
 },
 "nbformat": 4,
 "nbformat_minor": 2
}
