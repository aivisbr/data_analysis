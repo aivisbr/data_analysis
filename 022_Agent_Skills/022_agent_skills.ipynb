{
 "cells": [
  {
   "cell_type": "markdown",
   "id": "15bddf03",
   "metadata": {},
   "source": [
    "# Anthropic Agent Skills\n",
    "- https://www.anthropic.com/news/skills\n",
    "- https://www.anthropic.com/engineering/equipping-agents-for-the-real-world-with-agent-skills\n",
    "- Help: https://support.claude.com/en/articles/12512198-how-to-create-custom-skills\n",
    "- Docs: https://docs.claude.com/en/docs/agents-and-tools/agent-skills/overview\n",
    "- API: https://docs.claude.com/en/api/skills-guide\n",
    "- Claude Code: https://docs.claude.com/en/docs/claude-code/skills\n",
    "- GitHub: https://github.com/anthropics/skills"
   ]
  },
  {
   "cell_type": "code",
   "execution_count": 1,
   "id": "7761bb56",
   "metadata": {},
   "outputs": [],
   "source": [
    "import anthropic # pip install anthropic\n",
    "from anthropic.lib import files_from_dir\n",
    "from dotenv import load_dotenv # pip install python-dotenv\n",
    "import os"
   ]
  },
  {
   "cell_type": "code",
   "execution_count": 2,
   "id": "29664f7d",
   "metadata": {},
   "outputs": [
    {
     "data": {
      "text/plain": [
       "True"
      ]
     },
     "execution_count": 2,
     "metadata": {},
     "output_type": "execute_result"
    }
   ],
   "source": [
    "load_dotenv()"
   ]
  },
  {
   "cell_type": "code",
   "execution_count": 3,
   "id": "9e833759",
   "metadata": {},
   "outputs": [],
   "source": [
    "client = anthropic.Anthropic(api_key=os.getenv(\"ANTHROPIC_API_KEY\"))"
   ]
  },
  {
   "cell_type": "markdown",
   "id": "7f92167b",
   "metadata": {},
   "source": [
    "### Create a Skill from a directory\n",
    "- https://docs.claude.com/en/api/skills/create-skill"
   ]
  },
  {
   "cell_type": "code",
   "execution_count": null,
   "id": "0ca20655",
   "metadata": {},
   "outputs": [],
   "source": [
    "client.beta.skills.create(\n",
    "    betas=[\"skills-2025-10-02\"],\n",
    "    display_title=\"scf-brand\",\n",
    "    files=files_from_dir(\"scf-brand\"),\n",
    ")"
   ]
  },
  {
   "cell_type": "markdown",
   "id": "71f36f11",
   "metadata": {},
   "source": [
    "### Create a Skill from a .zip file\n",
    "- https://docs.claude.com/en/api/skills/create-skill"
   ]
  },
  {
   "cell_type": "code",
   "execution_count": 4,
   "id": "a46d9703",
   "metadata": {},
   "outputs": [
    {
     "data": {
      "text/plain": [
       "SkillCreateResponse(id='skill_018asjGvKo57w4zAb2gf4fYH', created_at='2025-10-19T17:14:33.157571Z', display_title='scf-brand', latest_version='1760894072169934', source='custom', type='skill', updated_at='2025-10-19T17:14:33.157571Z')"
      ]
     },
     "execution_count": 4,
     "metadata": {},
     "output_type": "execute_result"
    }
   ],
   "source": [
    "client.beta.skills.create(\n",
    "    betas=[\"skills-2025-10-02\"], # Beta header: https://docs.claude.com/en/api/skills-guide\n",
    "    display_title=\"scf-brand\",\n",
    "    files=[(\"scf-brand.zip\", open(\"scf-brand.zip\", \"rb\"))],\n",
    ")"
   ]
  },
  {
   "cell_type": "markdown",
   "id": "2a01bb66",
   "metadata": {},
   "source": [
    "### Using skills"
   ]
  },
  {
   "cell_type": "code",
   "execution_count": 5,
   "id": "9aad1fe0",
   "metadata": {},
   "outputs": [],
   "source": [
    "response = client.beta.messages.create(\n",
    "    model=\"claude-sonnet-4-5-20250929\",\n",
    "    max_tokens=16384, #4096, # https://docs.claude.com/en/api/messages#body-max-tokens\n",
    "    #betas=[\"code-execution-2025-08-25\", \"skills-2025-10-02\"],\n",
    "    extra_headers={\"anthropic-beta\": \"web-fetch-2025-09-10, code-execution-2025-08-25, skills-2025-10-02\"}, # web fetch tool: https://docs.claude.com/en/docs/agents-and-tools/tool-use/web-fetch-tool\n",
    "    container={\n",
    "        \"skills\": [\n",
    "            {\n",
    "                \"type\": \"anthropic\",\n",
    "                \"skill_id\": \"pptx\",\n",
    "                \"version\": \"latest\"\n",
    "            },\n",
    "            {\n",
    "                \"type\": \"custom\",\n",
    "                \"skill_id\": \"skill_018asjGvKo57w4zAb2gf4fYH\", # From https://console.anthropic.com/workspaces/default/skills\n",
    "                \"version\": \"latest\"\n",
    "            }\n",
    "        ]\n",
    "    },\n",
    "    messages=[{\n",
    "        \"role\": \"user\",\n",
    "        \"content\": \"Create a presentation about Scandic Fusion. Use data from https://www.scandicfusion.com to get information about this company.\"\n",
    "    }],\n",
    "    tools=[{\n",
    "        \"type\": \"code_execution_20250825\",\n",
    "        \"name\": \"code_execution\"\n",
    "    },\n",
    "    {\n",
    "        \"type\": \"web_fetch_20250910\",\n",
    "        \"name\": \"web_fetch\",\n",
    "        \"max_uses\": 5\n",
    "    }]\n",
    ")"
   ]
  },
  {
   "cell_type": "markdown",
   "id": "028f98f3",
   "metadata": {},
   "source": [
    "**Total tokens in**: 401'860  \n",
    "**Total tokens out**: 9'049  \n",
    "**Total token cost**: 1.34 USD"
   ]
  },
  {
   "cell_type": "code",
   "execution_count": null,
   "id": "14bba9b6",
   "metadata": {},
   "outputs": [],
   "source": [
    "# Check if request was successful\n",
    "if response.status_code == 200:\n",
    "    result = response.json()\n",
    "    print(result)\n",
    "else:\n",
    "    print(f\"Error: {response.status_code}\")\n",
    "    print(response.text)"
   ]
  },
  {
   "cell_type": "code",
   "execution_count": 6,
   "id": "8a6971d4",
   "metadata": {},
   "outputs": [],
   "source": [
    "# Extract file IDs from the response\n",
    "def extract_file_ids(response):\n",
    "    file_ids = []\n",
    "    for item in response.content:\n",
    "        if item.type == 'bash_code_execution_tool_result':\n",
    "            content_item = item.content\n",
    "            if content_item.type == 'bash_code_execution_result':\n",
    "                for file in content_item.content:\n",
    "                    if hasattr(file, 'file_id'):\n",
    "                        file_ids.append(file.file_id)\n",
    "    return file_ids"
   ]
  },
  {
   "cell_type": "code",
   "execution_count": 7,
   "id": "8c011106",
   "metadata": {},
   "outputs": [
    {
     "data": {
      "text/plain": [
       "['file_011CUJ954aN4qcE7vqLrgbFB']"
      ]
     },
     "execution_count": 7,
     "metadata": {},
     "output_type": "execute_result"
    }
   ],
   "source": [
    "extract_file_ids(response)"
   ]
  },
  {
   "cell_type": "code",
   "execution_count": 8,
   "id": "c042a1b4",
   "metadata": {},
   "outputs": [
    {
     "name": "stdout",
     "output_type": "stream",
     "text": [
      "Downloaded: scandic_fusion_presentation.pptx\n"
     ]
    }
   ],
   "source": [
    "# Download the file using Files API\n",
    "for file_id in extract_file_ids(response):\n",
    "    file_metadata = client.beta.files.retrieve_metadata(\n",
    "        file_id=file_id,\n",
    "        betas=[\"files-api-2025-04-14\"]\n",
    "    )\n",
    "    file_content = client.beta.files.download(\n",
    "        file_id=file_id,\n",
    "        betas=[\"files-api-2025-04-14\"]\n",
    "    )\n",
    "\n",
    "    # Step 4: Save to disk\n",
    "    file_content.write_to_file(file_metadata.filename)\n",
    "    print(f\"Downloaded: {file_metadata.filename}\")"
   ]
  },
  {
   "cell_type": "markdown",
   "id": "3a0e7be9",
   "metadata": {},
   "source": [
    "### Versions"
   ]
  },
  {
   "cell_type": "code",
   "execution_count": 6,
   "id": "8d6e81bf",
   "metadata": {},
   "outputs": [
    {
     "data": {
      "text/markdown": [
       "Python version: 3.13.3 (tags/v3.13.3:6280bb5, Apr  8 2025, 14:47:33) [MSC v.1943 64 bit (AMD64)]\n",
       "\n",
       "[anthropic](https://pypi.org/project/anthropic/) version: 0.71.0\n",
       "\n",
       "[python-dotenv](https://pypi.org/project/python-dotenv/) version: 1.1.1\n",
       "\n"
      ],
      "text/plain": [
       "<IPython.core.display.Markdown object>"
      ]
     },
     "metadata": {},
     "output_type": "display_data"
    }
   ],
   "source": [
    "from importlib.metadata import version\n",
    "from IPython.display import Markdown, display # pip install ipython\n",
    "import sys\n",
    "\n",
    "packages = ['anthropic', 'python-dotenv']\n",
    "\n",
    "text = f\"Python version: {sys.version}\\n\\n\"\n",
    "for i in packages:\n",
    "    text += f\"[{i}](https://pypi.org/project/{i}/) version: {version(i)}\\n\\n\"\n",
    "display(Markdown(text))"
   ]
  }
 ],
 "metadata": {
  "kernelspec": {
   "display_name": ".venv3",
   "language": "python",
   "name": "python3"
  },
  "language_info": {
   "codemirror_mode": {
    "name": "ipython",
    "version": 3
   },
   "file_extension": ".py",
   "mimetype": "text/x-python",
   "name": "python",
   "nbconvert_exporter": "python",
   "pygments_lexer": "ipython3",
   "version": "3.13.3"
  }
 },
 "nbformat": 4,
 "nbformat_minor": 5
}
