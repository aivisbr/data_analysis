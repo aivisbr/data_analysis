{
 "cells": [
  {
   "cell_type": "markdown",
   "metadata": {},
   "source": [
    "# Anthropic Citations\n",
    "- https://www.anthropic.com/news/introducing-citations-api\n",
    "- https://docs.anthropic.com/en/docs/build-with-claude/citations"
   ]
  },
  {
   "cell_type": "code",
   "execution_count": null,
   "metadata": {},
   "outputs": [],
   "source": [
    "! pip install anthropic keyring markitdown"
   ]
  },
  {
   "cell_type": "code",
   "execution_count": 118,
   "metadata": {},
   "outputs": [],
   "source": [
    "import anthropic # pip install anthropic\n",
    "import base64 # for converting pdf file\n",
    "import httpx # to get pdf from the web\n",
    "from IPython.display import Markdown, display\n",
    "import keyring # pip install keyring\n",
    "from markitdown import MarkItDown # pip install markitdown"
   ]
  },
  {
   "cell_type": "code",
   "execution_count": 2,
   "metadata": {},
   "outputs": [],
   "source": [
    "# Set only once. Do not keep this code (with visible API key) in .py, .ipynb etc.\n",
    "#keyring.set_password('Claude_API_key', 'Medium_API_test', '<API-KEY>')"
   ]
  },
  {
   "cell_type": "code",
   "execution_count": 4,
   "metadata": {},
   "outputs": [],
   "source": [
    "client = anthropic.Anthropic(\n",
    "    api_key=keyring.get_password('Claude_API_key', 'Medium_API _test'),\n",
    ")"
   ]
  },
  {
   "cell_type": "code",
   "execution_count": 5,
   "metadata": {},
   "outputs": [],
   "source": [
    "MODEL = \"claude-3-5-sonnet-20241022\" # https://docs.anthropic.com/en/docs/about-claude/models"
   ]
  },
  {
   "cell_type": "markdown",
   "metadata": {},
   "source": [
    "## Plain text example\n",
    "_Simple text documents, prose_"
   ]
  },
  {
   "cell_type": "code",
   "execution_count": 21,
   "metadata": {},
   "outputs": [],
   "source": [
    "# Get text (from the web)\n",
    "url = 'https://likumi.lv/ta/en/en/id/26019-labour-law'\n",
    "md = MarkItDown()\n",
    "result = md.convert_url(url)"
   ]
  },
  {
   "cell_type": "code",
   "execution_count": 24,
   "metadata": {},
   "outputs": [
    {
     "name": "stdout",
     "output_type": "stream",
     "text": [
      "īdz |  |  |  | līdz |  |  |  |\n",
      "\n",
      "| Statuss: |  | spēkā esošs |  | vēl nav spēkā |  | zaudējis spēku |\n",
      "| --- | --- | --- | --- | --- | --- | --- |\n",
      "\n",
      "search\n",
      "\n",
      "notīrīt\n",
      "\n",
      "| The translation of this document is outdated.  Translation validity: 25.11.2022.–21.10.2024.  Amendments not included: [19.09.2024.](/ta/id/355472)      | Text consolidated by Valsts valodas centrs (State Language Centre) with amending laws of: 12 December 2002 [shall come into force on 1 January 2003]; 22 January 2004 [shall come into force on 25 February 2004]; 22 April 2004 [shall come into force on 8 May 2004]; 13 October 2005 [shall come into force on 16 November 2005]; 21 September 2006 [shall come into force on 25 October 2006]; 12 June 2009 [shall come into force on 29 June 2009]; 1 December 2009 [shall come into force on 1 January 2010]; 4 March 2010 [shall come into force on 25 March 2010]; 31 March 2011 [shall come into force on 4 May 2011]; 16 June 2011 [shall come into force on 20 July 2011]; 21 June 2012 [shal\n"
     ]
    }
   ],
   "source": [
    "print(result.text_content[2000:3000])"
   ]
  },
  {
   "cell_type": "code",
   "execution_count": 26,
   "metadata": {},
   "outputs": [],
   "source": [
    "user_prompt = \"How many days of study leave can an employee get for a State exam or diploma preparation?\""
   ]
  },
  {
   "cell_type": "code",
   "execution_count": null,
   "metadata": {},
   "outputs": [],
   "source": [
    "# chat completion without streaming\n",
    "response = client.messages.create(\n",
    "    model=MODEL, # https://docs.anthropic.com/en/docs/about-claude/models\n",
    "    max_tokens=1024,\n",
    "    messages=[\n",
    "        {\n",
    "            \"role\": \"user\",\n",
    "            \"content\": [\n",
    "                {\n",
    "                    \"type\": \"document\",\n",
    "                    \"source\": {\n",
    "                        \"type\": \"text\",\n",
    "                        \"media_type\": \"text/plain\",\n",
    "                        \"data\": result.text_content[2000:]\n",
    "                    },\n",
    "                    \"title\": \"Labour Law\", # optional field that will be passed to the model but not used towards cited content.\n",
    "                    \"context\": \"This is a Labour Law from likumi.lv with changes until 21.10.2024.\", # optional field that will be passed to the model but not used towards cited content.\n",
    "                    \"citations\": {\"enabled\": True}\n",
    "                },\n",
    "                {\n",
    "                    \"type\": \"text\",\n",
    "                    \"text\": user_prompt\n",
    "                }\n",
    "            ]\n",
    "        }\n",
    "    ]\n",
    ")"
   ]
  },
  {
   "cell_type": "markdown",
   "metadata": {},
   "source": [
    "Response result:"
   ]
  },
  {
   "cell_type": "code",
   "execution_count": 110,
   "metadata": {},
   "outputs": [
    {
     "data": {
      "text/markdown": [
       "According to the law, an employee shall be granted a study leave of 20 working days for taking a State examination or preparing and defending a diploma paper, either with or without retaining their wage. For employees with piecework wage, the study leave shall be granted either with or without disbursing average earnings [1].\n",
       "\n",
       "[1] \"Labour Law\" - (2) An employee shall be granted a study leave of 20 working days for the taking of a State examination or the preparation and defence of a diploma paper with or without retaining the wage. If a piecework wage has been specified for the employee, a study leave shall be granted with or without disbursing the average earnings.  \n"
      ],
      "text/plain": [
       "<IPython.core.display.Markdown object>"
      ]
     },
     "metadata": {},
     "output_type": "display_data"
    }
   ],
   "source": [
    "text = ''\n",
    "citation_num = 1\n",
    "citations = ''\n",
    "\n",
    "for i in response.content:    \n",
    "    if hasattr(i, 'citations'):\n",
    "        citation_nums = []\n",
    "        for citation in i.citations:\n",
    "            citation_nums.append(citation_num)\n",
    "            #print(citation)\n",
    "            citations = citations + f'[{citation_num}] \"{citation['document_title']}\" - {citation['cited_text']}\\n\\n'\n",
    "            #print(result.text_content[2000+citation['start_char_index']:2000+citation['end_char_index']]) # same as citation['cited_text']\n",
    "            citation_num += 1\n",
    "        text = text + i.text + ' ['+','.join(str(item) for item in citation_nums)+']'\n",
    "    else:\n",
    "        text += i.text\n",
    "display(Markdown((text+'\\n\\n'+citations if citations.strip() else text)))"
   ]
  },
  {
   "cell_type": "code",
   "execution_count": 116,
   "metadata": {},
   "outputs": [
    {
     "data": {
      "text/plain": [
       "dict_keys(['type', 'cited_text', 'document_index', 'document_title', 'start_char_index', 'end_char_index'])"
      ]
     },
     "execution_count": 116,
     "metadata": {},
     "output_type": "execute_result"
    }
   ],
   "source": [
    "# Possible dictionary keys from the citations\n",
    "    # see also: https://docs.anthropic.com/en/docs/build-with-claude/citations#example-plain-text-citation\n",
    "response.content[1].citations[0].keys()"
   ]
  },
  {
   "cell_type": "markdown",
   "metadata": {},
   "source": [
    "Used tokens for this query:"
   ]
  },
  {
   "cell_type": "code",
   "execution_count": 36,
   "metadata": {},
   "outputs": [
    {
     "name": "stdout",
     "output_type": "stream",
     "text": [
      "\n",
      "Cache creation input tokens:\t0\n",
      "Cache read input tokens:\t0\n",
      "Input tokens:\t\t\t73869\n",
      "Output tokens:\t\t\t88\n",
      "Total tokens:\t\t\t73957\n",
      "\n"
     ]
    }
   ],
   "source": [
    "print(f\"\"\"\n",
    "Cache creation input tokens:\\t{response.usage.cache_creation_input_tokens}\n",
    "Cache read input tokens:\\t{response.usage.cache_read_input_tokens}\n",
    "Input tokens:\\t\\t\\t{response.usage.input_tokens}\n",
    "Output tokens:\\t\\t\\t{response.usage.output_tokens}\n",
    "Total tokens:\\t\\t\\t{response.usage.input_tokens+response.usage.output_tokens}\n",
    "\"\"\")"
   ]
  },
  {
   "cell_type": "markdown",
   "metadata": {},
   "source": [
    "This query (73'957 tokens) cost me **0.22 EUR**. Detailed information about pricing you can see [here](https://www.anthropic.com/pricing#anthropic-api)."
   ]
  },
  {
   "cell_type": "markdown",
   "metadata": {},
   "source": [
    "## PDF example\n",
    "_PDF files with text content. Citing images from PDFs is not currently supported._"
   ]
  },
  {
   "cell_type": "code",
   "execution_count": 125,
   "metadata": {},
   "outputs": [],
   "source": [
    "# Load and encode the PDF\n",
    "    # https://docs.anthropic.com/en/docs/build-with-claude/pdf-support\n",
    "pdf_url = \"https://www.lza.lv/images/Zinatnes-vestnesis/2024/ZV_12_2024.pdf\"\n",
    "pdf_data = base64.standard_b64encode(httpx.get(pdf_url).content).decode(\"utf-8\")"
   ]
  },
  {
   "cell_type": "code",
   "execution_count": 127,
   "metadata": {},
   "outputs": [],
   "source": [
    "# Prompt: \"What articles (name the title of the article and the author) are included in the latest journal 'Zinātnes vēstnesis'?\"\n",
    "user_prompt = \"Kādi raksti (nosauc raksta nosaukumu un autoru) ir iekļauti pēdējā izdevumā 'Zinātnes vēstnesis'?\""
   ]
  },
  {
   "cell_type": "code",
   "execution_count": 128,
   "metadata": {},
   "outputs": [],
   "source": [
    "# chat completion without streaming\n",
    "response = client.messages.create(\n",
    "    model=MODEL, # https://docs.anthropic.com/en/docs/about-claude/models\n",
    "    max_tokens=1024,\n",
    "    messages=[\n",
    "        {\n",
    "            \"role\": \"user\",\n",
    "            \"content\": [\n",
    "                {\n",
    "                    \"type\": \"document\",\n",
    "                    \"source\": {\n",
    "                        \"type\": \"base64\",\n",
    "                        \"media_type\": \"application/pdf\",\n",
    "                        \"data\": pdf_data\n",
    "                    },\n",
    "                    \"title\": \"Zinātnes Vēstnesis\", # optional field that will be passed to the model but not used towards cited content.\n",
    "                    \"context\": \"Latvijas Zinātņu akadēmijas, Latvijas Zinātnes padomes un Latvijas Zinātnieku savienības laikraksts, Nr.11 (649)\", # optional field that will be passed to the model but not used towards cited content.\n",
    "                    \"citations\": {\"enabled\": True}\n",
    "                },\n",
    "                {\n",
    "                    \"type\": \"text\",\n",
    "                    \"text\": user_prompt\n",
    "                }\n",
    "            ]\n",
    "        }\n",
    "    ]\n",
    ")"
   ]
  },
  {
   "cell_type": "markdown",
   "metadata": {},
   "source": [
    "Response result:"
   ]
  },
  {
   "cell_type": "code",
   "execution_count": 150,
   "metadata": {},
   "outputs": [
    {
     "data": {
      "text/markdown": [
       "Balstoties uz dokumentu, pēdējā \"Zinātnes Vēstnesis\" izdevumā (Nr. 11 (649), 2024. gada 30. decembris) ir iekļauti šādi galvenie raksti:\n",
       "\n",
       "1. Latvijas Jauno zinātnieku apvienības valdes locekles Lienes Spruženieces viedokļraksts \"Kāpēc zinātniekiem nevajadzētu \"mērīties\" ar Hirša indeksiem\" [1,2]\n",
       "\n",
       "2. \"Draudzība un jauniešu morālā izaugsme: kā tās mijiedarbojas un kāpēc būtiski šo pētīt teorijā un praksē\" - intervija ar Dr.paed. Manuelu Hoakinu Fernadesu-Gonsalesu, kas ir viens no trīspadsmit Latvijas Universitātes un Banku augstskolas zinātnieku grantu saņēmējiem. Līdz 2026. gada februārim viņš pētīs saistību starp draudzību un jauniešu tikumisko izaugsmi [3,4]\n",
       "\n",
       "3. \"Ievads cietumzinātnē\" - raksts par soda izpildes jomu un to, kā ieslodzījuma vietu amatpersonas var radīt apstākļus likumpārkāpēja uzvedības pozitīvām pārmaiņām [5]\n",
       "\n",
       "4. Māra Lustes raksts \"Penitenciārā zinātne un soda filozofijas evolūcija\" [6]\n",
       "\n",
       "Turklāt izdevumā iekļauta arī informācija par zinātnisko grādu aizstāvēšanām un piešķiršanām.\n",
       "\n",
       "**Avoti:**\n",
       "\n",
       "[1] \"Zinātnes Vēstnesis\" - Latvijas Zinātņu akadēmija\r\n",
       "11 (649) ISSN 1407-6748 2024. gada 30. decembris\r\n",
       "Kāpēc zinātniekiem nevajadzētu “mērīties” ar Hirša indeksiem\r\n",
       "Laikraksta “Zinātnes Vēstnesis” septembra numurā \r\n",
       "(https://www.lza.lv/images/Zinatnes-vestnesis/2024/Z\u0002V_09_2024.pdf) akadēmiķa Roberta Eglīša publicētais \r\n",
       "Latvijas zinātnieku rangs pēc Hirša indeksa un apgalvoju\u0002mi, ka Hirša indekss (H-indekss) objektīvi atspoguļo \r\n",
       "zinātnieku darba izcilību izraisīja plašas diskusijas, īpaši \r\n",
       "jauno zinātnieku vidū.  (1.lpp.)\n",
       "\n",
       "[2] \"Zinātnes Vēstnesis\" - Laikraksta “Zinātnes Vēstnesis” redakcija\r\n",
       "Latvijas Jauno zinātnieku apvienības valdes locekles Lienes Spruženieces viedokļraksts\r\n",
       "Raksta autors Māris Luste.  (1.lpp.)\n",
       "\n",
       "[3] \"Zinātnes Vēstnesis\" - Draudzība un jauniešu morālā izaugsme: \r\n",
       "kā tās mijiedarbojas un kāpēc būtiski šo pētīt teorijā un praksē\r\n",
       "Dr.paed.  (1.lpp.)\n",
       "\n",
       "[4] \"Zinātnes Vēstnesis\" - Izglītības zinātņu un psiholoģijas Pedagoģijas \r\n",
       "zinātniskā institūta vadošais pētnieks Manuels Hoakins \r\n",
       "Fernandess-Gonsaless ir viens no trīspadsmit Latvijas \r\n",
       "Universitātes un Banku augstskolas zinātnieku (profesoru) \r\n",
       "grantu saņēmējiem. Līdz 2026. gada februārim viņš pētīs \r\n",
       "saistību starp draudzību un jauniešu tikumisko izaugsmi, kas \r\n",
       "ir viņa pētniecības lauks jau vairāk nekā septiņus gadus.  (1.lpp.)\n",
       "\n",
       "[5] \"Zinātnes Vēstnesis\" - Ievads cietumzinātnē\r\n",
       "Ārsta profesija nepastāvētu bez medicīnas un \r\n",
       "skolotāja – bez pedagoģijas zinātnes. Kā šis princips darbo\u0002jas soda izpildes jomā? Vai ieslodzījuma vietu amatpersona, \r\n",
       "nesekojot fundamentāliem pierādījumiem, spētu radīt \r\n",
       "apstākļus, kuros tai uzticētā likumpārkāpēja uzvedība \r\n",
       "piedzīvo pozitīvas pārmaiņas?\r\n",
       " (1.lpp.)\n",
       "\n",
       "[6] \"Zinātnes Vēstnesis\" - Laikrakstam “Zinātnes Vēstnesis”\r\n",
       "sagatavoja ESF projekta \r\n",
       "“Resocializācijas sistēmas efektivitātes paaugstināšana” \r\n",
       "vadītājs (2017–2023) Māris Luste\r\n",
       "“Zinātnes Vēstnesis” 2024. gada 30. decembris (6.lpp.)\n",
       "\n"
      ],
      "text/plain": [
       "<IPython.core.display.Markdown object>"
      ]
     },
     "metadata": {},
     "output_type": "display_data"
    }
   ],
   "source": [
    "text = ''\n",
    "citation_num = 1\n",
    "citations = ''\n",
    "\n",
    "for i in response.content:    \n",
    "    if hasattr(i, 'citations'):\n",
    "        citation_nums = []\n",
    "        for citation in i.citations:\n",
    "            citation_nums.append(citation_num)\n",
    "            # citation['end_page_number'] - exclusive\n",
    "            pages = f\"({citation['start_page_number']}.lpp.)\" if citation['start_page_number'] == citation['end_page_number']-1 else f\"({citation['start_page_number']}.-{citation['end_page_number']}.lpp.)\"\n",
    "            citations = citations + f'[{citation_num}] \"{citation['document_title']}\" - {citation['cited_text']} {pages}\\n\\n'\n",
    "            citation_num += 1            \n",
    "        text = text + i.text + ' ['+','.join(str(item) for item in citation_nums)+']'\n",
    "    else:\n",
    "        text += i.text\n",
    "display(Markdown((text+'\\n\\n**Avoti:**\\n\\n'+citations if citations.strip() else text)))"
   ]
  },
  {
   "cell_type": "code",
   "execution_count": 137,
   "metadata": {},
   "outputs": [
    {
     "data": {
      "text/plain": [
       "dict_keys(['type', 'cited_text', 'document_index', 'document_title', 'start_page_number', 'end_page_number'])"
      ]
     },
     "execution_count": 137,
     "metadata": {},
     "output_type": "execute_result"
    }
   ],
   "source": [
    "# Possible dictionary keys from the citations\n",
    "    # see also: https://docs.anthropic.com/en/docs/build-with-claude/citations#example-pdf-citation\n",
    "response.content[1].citations[0].keys()"
   ]
  },
  {
   "cell_type": "markdown",
   "metadata": {},
   "source": [
    "Used tokens for this query:"
   ]
  },
  {
   "cell_type": "code",
   "execution_count": 134,
   "metadata": {},
   "outputs": [
    {
     "name": "stdout",
     "output_type": "stream",
     "text": [
      "\n",
      "Cache creation input tokens:\t0\n",
      "Cache read input tokens:\t0\n",
      "Input tokens:\t\t\t54353\n",
      "Output tokens:\t\t\t541\n",
      "Total tokens:\t\t\t54894\n",
      "\n"
     ]
    }
   ],
   "source": [
    "print(f\"\"\"\n",
    "Cache creation input tokens:\\t{response.usage.cache_creation_input_tokens}\n",
    "Cache read input tokens:\\t{response.usage.cache_read_input_tokens}\n",
    "Input tokens:\\t\\t\\t{response.usage.input_tokens}\n",
    "Output tokens:\\t\\t\\t{response.usage.output_tokens}\n",
    "Total tokens:\\t\\t\\t{response.usage.input_tokens+response.usage.output_tokens}\n",
    "\"\"\")"
   ]
  },
  {
   "cell_type": "markdown",
   "metadata": {},
   "source": [
    "This query (54'894 tokens) cost me **0.17 EUR**. Detailed information about pricing you can see [here](https://www.anthropic.com/pricing#anthropic-api)."
   ]
  },
  {
   "cell_type": "markdown",
   "metadata": {},
   "source": [
    "## Custom content example\n",
    "_Lists, transcripts, special formatting, more granular citations_"
   ]
  },
  {
   "cell_type": "code",
   "execution_count": 160,
   "metadata": {},
   "outputs": [],
   "source": [
    "qa_url = \"https://raw.githubusercontent.com/DataTalksClub/llm-zoomcamp/refs/heads/main/03-vector-search/eval/documents-with-ids.json\"\n",
    "qa_raw = httpx.get(qa_url).json()"
   ]
  },
  {
   "cell_type": "markdown",
   "metadata": {},
   "source": [
    "Create separate lists for each course Q&A:"
   ]
  },
  {
   "cell_type": "code",
   "execution_count": 169,
   "metadata": {},
   "outputs": [],
   "source": [
    "dataeng_list = []\n",
    "ml_list = []\n",
    "mlops_list = []\n",
    "for i in qa_raw:\n",
    "    if i['course'] == 'data-engineering-zoomcamp':\n",
    "        dataeng_list.append({\"type\": \"text\", \"text\": f\"QUESTION: {i['question']}; ANSWER: {i['text']}\"})\n",
    "    if i['course'] == 'machine-learning-zoomcamp':\n",
    "        ml_list.append({\"type\": \"text\", \"text\": f\"QUESTION: {i['question']}; ANSWER: {i['text']}\"})\n",
    "    if i['course'] == 'mlops-zoomcamp':\n",
    "        mlops_list.append({\"type\": \"text\", \"text\": f\"QUESTION: {i['question']}; ANSWER: {i['text']}\"})"
   ]
  },
  {
   "cell_type": "code",
   "execution_count": 178,
   "metadata": {},
   "outputs": [],
   "source": [
    "user_prompt = \"Will I get a certificate for ML Zoomcamp course and data engineering zoomcamp?\""
   ]
  },
  {
   "cell_type": "markdown",
   "metadata": {},
   "source": [
    "To decrease input token amount I'm using only first 10 or 15 records from each list:"
   ]
  },
  {
   "cell_type": "code",
   "execution_count": 181,
   "metadata": {},
   "outputs": [],
   "source": [
    "# chat completion without streaming\n",
    "response = client.messages.create(\n",
    "    model=MODEL, # https://docs.anthropic.com/en/docs/about-claude/models\n",
    "    max_tokens=1024,\n",
    "    messages=[\n",
    "        {\n",
    "            \"role\": \"user\",\n",
    "            \"content\": [\n",
    "                {\n",
    "                    \"type\": \"document\",\n",
    "                    \"source\": {\n",
    "                        \"type\": \"content\",\n",
    "                        \"content\": dataeng_list[:15]\n",
    "                            },\n",
    "                    \"title\": \"Data engineering zoomcamp\", # optional field that will be passed to the model but not used towards cited content.\n",
    "                    \"context\": \"Q&A from Data engineering zoomcamp\", # optional field that will be passed to the model but not used towards cited content.\n",
    "                    \"citations\": {\"enabled\": True}\n",
    "                },\n",
    "                {\n",
    "                    \"type\": \"document\",\n",
    "                    \"source\": {\n",
    "                        \"type\": \"content\",\n",
    "                        \"content\": ml_list[:10]\n",
    "                            },\n",
    "                    \"title\": \"Machine Learning zoomcamp\", # optional field that will be passed to the model but not used towards cited content.\n",
    "                    \"context\": \"Q&A from Machine Learning zoomcamp\", # optional field that will be passed to the model but not used towards cited content.\n",
    "                    \"citations\": {\"enabled\": True}\n",
    "                },\n",
    "                {\n",
    "                    \"type\": \"document\",\n",
    "                    \"source\": {\n",
    "                        \"type\": \"content\",\n",
    "                        \"content\": mlops_list[:10]\n",
    "                            },\n",
    "                    \"title\": \"MLOps zoomcamp\", # optional field that will be passed to the model but not used towards cited content.\n",
    "                    \"context\": \"Q&A from MLOps zoomcamp\", # optional field that will be passed to the model but not used towards cited content.\n",
    "                    \"citations\": {\"enabled\": True}\n",
    "                },\n",
    "                {\n",
    "                    \"type\": \"text\",\n",
    "                    \"text\": user_prompt\n",
    "                }\n",
    "            ]\n",
    "        }\n",
    "    ]\n",
    ")"
   ]
  },
  {
   "cell_type": "markdown",
   "metadata": {},
   "source": [
    "Response result:"
   ]
  },
  {
   "cell_type": "code",
   "execution_count": 187,
   "metadata": {},
   "outputs": [
    {
     "data": {
      "text/markdown": [
       "Based on the documents, here are the certificate requirements for both courses:\n",
       "\n",
       "For ML Zoomcamp:\n",
       "Yes, you will get a certificate if you complete at least 2 out of 3 projects and review 3 peers' Projects by the deadline. [1]\n",
       "\n",
       "For Data Engineering Zoomcamp:\n",
       "You can only get a certificate if you finish the course with a \"live\" cohort. Certificates are not awarded for the self-paced mode. This is because you need to peer-review capstone projects after submitting your project, which can only be done when the course is running. [2]\n",
       "\n",
       "Important points about the courses:\n",
       "\n",
       "Data Engineering Zoomcamp:\n",
       "- There's only one \"live\" cohort per year for the Data Engineering certification, which generally runs from January to April. [3]\n",
       "\n",
       "While all materials remain available after the course finishes and you can follow the course at your own pace, you'll need to participate in the live cohort if you want to obtain a certificate. [4]\n",
       "\n",
       "ML Zoomcamp:\n",
       "- The course videos are pre-recorded, and you can start watching them right away. There are occasional office hours (live sessions) which are also recorded. If you miss any session, you won't miss anything as everything is recorded. [5]\n",
       "- The course duration is approximately 4 months [6].\n",
       "\n",
       "**Source:**\n",
       "\n",
       "[1] \"Machine Learning zoomcamp\" - QUESTION: Will I get a certificate?; ANSWER: Yes, if you finish at least 2 out of 3 projects and review 3 peers’ Projects by the deadline, you will get a certificate. This is what it looks like: link. There’s also a version without a robot: link.\n",
       "\n",
       "[2] \"Data engineering zoomcamp\" - QUESTION: Certificate - Can I follow the course in a self-paced mode and get a certificate?; ANSWER: No, you can only get a certificate if you finish the course with a “live” cohort. We don't award certificates for the self-paced mode. The reason is you need to peer-review capstone(s) after submitting a project. You can only peer-review projects at the time the course is running.\n",
       "\n",
       "[3] \"Data engineering zoomcamp\" - QUESTION: Course - how many Zoomcamps in a year?; ANSWER: There are 3 Zoom Camps in a year, as of 2024. However, they are for separate courses:\n",
       "Data-Engineering (Jan - Apr)\n",
       "MLOps (May - Aug)\n",
       "Machine Learning (Sep - Jan)\n",
       "There's only one Data-Engineering Zoomcamp “live” cohort per year, for the certification. Same as for the other Zoomcamps.\n",
       "They follow pretty much the same schedule for each cohort per zoomcamp. For Data-Engineering it is (generally) from Jan-Apr of the year. If you’re not interested in the Certificate, you can take any zoom camps at any time, at your own pace, out of sync with any “live” cohort.\n",
       "\n",
       "[4] \"Data engineering zoomcamp\" - QUESTION: Course - Can I follow the course after it finishes?; ANSWER: Yes, we will keep all the materials after the course finishes, so you can follow the course at your own pace after it finishes.\n",
       "You can also continue looking at the homeworks and continue preparing for the next cohort. I guess you can also start working on your final capstone project.\n",
       "\n",
       "[5] \"Machine Learning zoomcamp\" - QUESTION: Is it going to be live? When?; ANSWER: The course videos are pre-recorded, you can start watching the course right now.\n",
       "We will also occasionally have office hours - live sessions where we will answer your questions. The office hours sessions are recorded too.\n",
       "You can see the office hours as well as the pre-recorded course videos in the course playlist on YouTube.QUESTION: What if I miss a session?; ANSWER: Everything is recorded, so you won’t miss anything. You will be able to ask your questions for office hours in advance and we will cover them during the live stream. Also, you can always ask questions in Slack.\n",
       "\n",
       "[6] \"Machine Learning zoomcamp\" - QUESTION: How long is the course?; ANSWER: Approximately 4 months, but may take more if you want to do some extra activities (an extra project, an article, etc)\n",
       "\n"
      ],
      "text/plain": [
       "<IPython.core.display.Markdown object>"
      ]
     },
     "metadata": {},
     "output_type": "display_data"
    }
   ],
   "source": [
    "text = ''\n",
    "citation_num = 1\n",
    "citations = ''\n",
    "\n",
    "for i in response.content:    \n",
    "    if hasattr(i, 'citations'):\n",
    "        citation_nums = []\n",
    "        for citation in i.citations:\n",
    "            citation_nums.append(citation_num)\n",
    "            citations = citations + f'[{citation_num}] \"{citation['document_title']}\" - {citation['cited_text']}\\n\\n'\n",
    "            citation_num += 1\n",
    "        text = text + i.text + ' ['+','.join(str(item) for item in citation_nums)+']'\n",
    "    else:\n",
    "        text += i.text\n",
    "display(Markdown((text+'\\n\\n**Source:**\\n\\n'+citations if citations.strip() else text)))"
   ]
  },
  {
   "cell_type": "code",
   "execution_count": 183,
   "metadata": {},
   "outputs": [
    {
     "data": {
      "text/plain": [
       "dict_keys(['type', 'cited_text', 'document_index', 'document_title', 'start_block_index', 'end_block_index'])"
      ]
     },
     "execution_count": 183,
     "metadata": {},
     "output_type": "execute_result"
    }
   ],
   "source": [
    "# Possible dictionary keys from the citations\n",
    "    # see also: https://docs.anthropic.com/en/docs/build-with-claude/citations#example-citation\n",
    "response.content[1].citations[0].keys()"
   ]
  },
  {
   "cell_type": "markdown",
   "metadata": {},
   "source": [
    "Used tokens for this query:"
   ]
  },
  {
   "cell_type": "code",
   "execution_count": 184,
   "metadata": {},
   "outputs": [
    {
     "name": "stdout",
     "output_type": "stream",
     "text": [
      "\n",
      "Cache creation input tokens:\t0\n",
      "Cache read input tokens:\t0\n",
      "Input tokens:\t\t\t4272\n",
      "Output tokens:\t\t\t380\n",
      "Total tokens:\t\t\t4652\n",
      "\n"
     ]
    }
   ],
   "source": [
    "print(f\"\"\"\n",
    "Cache creation input tokens:\\t{response.usage.cache_creation_input_tokens}\n",
    "Cache read input tokens:\\t{response.usage.cache_read_input_tokens}\n",
    "Input tokens:\\t\\t\\t{response.usage.input_tokens}\n",
    "Output tokens:\\t\\t\\t{response.usage.output_tokens}\n",
    "Total tokens:\\t\\t\\t{response.usage.input_tokens+response.usage.output_tokens}\n",
    "\"\"\")"
   ]
  },
  {
   "cell_type": "markdown",
   "metadata": {},
   "source": [
    "This query (4'652 tokens) cost me **0.02 EUR**. Detailed information about pricing you can see [here](https://www.anthropic.com/pricing#anthropic-api)."
   ]
  },
  {
   "cell_type": "markdown",
   "metadata": {},
   "source": [
    "---"
   ]
  },
  {
   "cell_type": "markdown",
   "metadata": {},
   "source": [
    "This code was generated using following Python and package versions:"
   ]
  },
  {
   "cell_type": "code",
   "execution_count": 146,
   "metadata": {},
   "outputs": [
    {
     "data": {
      "text/markdown": [
       "Python version: 3.12.4 (tags/v3.12.4:8e8a4ba, Jun  6 2024, 19:30:16) [MSC v.1940 64 bit (AMD64)]\n",
       "\n",
       "[anthropic](https://pypi.org/project/anthropic/) version: 0.43.0\n",
       "\n",
       "[keyring](https://pypi.org/project/keyring/) version: 25.6.0\n",
       "\n",
       "[markitdown](https://pypi.org/project/markitdown/) version: 0.0.1a3\n",
       "\n"
      ],
      "text/plain": [
       "<IPython.core.display.Markdown object>"
      ]
     },
     "metadata": {},
     "output_type": "display_data"
    }
   ],
   "source": [
    "from importlib.metadata import version\n",
    "import sys\n",
    "\n",
    "packages = ['anthropic', 'keyring', 'markitdown']\n",
    "\n",
    "text = f\"Python version: {sys.version}\\n\\n\"\n",
    "for i in packages:\n",
    "    text += f\"[{i}](https://pypi.org/project/{i}/) version: {version(i)}\\n\\n\"\n",
    "display(Markdown(text))"
   ]
  }
 ],
 "metadata": {
  "kernelspec": {
   "display_name": ".env",
   "language": "python",
   "name": "python3"
  },
  "language_info": {
   "codemirror_mode": {
    "name": "ipython",
    "version": 3
   },
   "file_extension": ".py",
   "mimetype": "text/x-python",
   "name": "python",
   "nbconvert_exporter": "python",
   "pygments_lexer": "ipython3",
   "version": "3.12.4"
  }
 },
 "nbformat": 4,
 "nbformat_minor": 2
}
