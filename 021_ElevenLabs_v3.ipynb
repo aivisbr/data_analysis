{
 "cells": [
  {
   "cell_type": "markdown",
   "id": "19ba8d58",
   "metadata": {},
   "source": [
    "# ElevenLabs Eleven v3 (alpha)\n",
    "- https://elevenlabs.io/blog/eleven-v3-alpha-now-available-in-the-api\n",
    "- https://elevenlabs.io/docs/models#eleven-v3-alpha\n",
    "- https://pypi.org/project/elevenlabs/"
   ]
  },
  {
   "cell_type": "code",
   "execution_count": null,
   "id": "3ef9cbd7",
   "metadata": {},
   "outputs": [],
   "source": [
    "from dotenv import load_dotenv # pip install python-dotenv\n",
    "from elevenlabs.client import ElevenLabs # pip install elevenlabs\n",
    "import os"
   ]
  },
  {
   "cell_type": "code",
   "execution_count": 2,
   "id": "0b6b4e8f",
   "metadata": {},
   "outputs": [],
   "source": [
    "load_dotenv()\n",
    "\n",
    "elevenlabs = ElevenLabs(\n",
    "  api_key=os.getenv(\"ELEVENLABS_API_KEY\"),\n",
    ")"
   ]
  },
  {
   "cell_type": "code",
   "execution_count": 3,
   "id": "ab1426e8",
   "metadata": {},
   "outputs": [],
   "source": [
    "# https://elevenlabs.io/docs/models\n",
    "\n",
    "#MODEL = \"eleven_multilingual_v2\"\n",
    "MODEL = \"eleven_v3\""
   ]
  },
  {
   "cell_type": "markdown",
   "id": "490f352a",
   "metadata": {},
   "source": [
    "### List available voices  \n",
    "- https://elevenlabs.io/app/default-voices\n",
    "- https://elevenlabs.io/docs/api-reference/voices/search"
   ]
  },
  {
   "cell_type": "code",
   "execution_count": 6,
   "id": "14df8840",
   "metadata": {},
   "outputs": [
    {
     "name": "stdout",
     "output_type": "stream",
     "text": [
      "1: 21m00Tcm4TlvDq8ikWAM - Rachel\n",
      "2: 29vD33N1CtxCmqQRPOHJ - Drew\n",
      "3: 2EiwWnXFnvU5JabPnv8n - Clyde\n",
      "4: 5Q0t7uMcjvnagumLfvZi - Paul\n",
      "5: 9BWtsMINqrJLrRacOk9x - Aria\n",
      "6: AZnzlk1XvdvUeBnXmlld - Domi\n",
      "7: CYw3kZ02Hs0563khs1Fj - Dave\n",
      "8: CwhRBWXzGAHq8TQ4Fs17 - Roger\n",
      "9: D38z5RcWu1voky8WS1ja - Fin\n",
      "10: EXAVITQu4vr4xnSDxMaL - Sarah\n",
      "11: ErXwobaYiN019PkySvjV - Antoni\n",
      "12: FGY2WhTYpPnrIDTdsKH5 - Laura\n",
      "13: GBv7mTt0atIp3Br8iCZE - Thomas\n",
      "14: IKne3meq5aSn9XLyUdCD - Charlie\n",
      "15: JBFqnCBsd6RMkjVDRZzb - George\n",
      "16: LcfcDJNUP1GQjkzn1xUU - Emily\n",
      "17: MF3mGyEYCl7XYWbV9V6O - Elli\n",
      "18: N2lVS1w4EtoT3dr4eOWO - Callum\n",
      "19: ODq5zmih8GrVes37Dizd - Patrick\n",
      "20: SAz9YHcvj6GT2YYXdXww - River\n",
      "21: SOYHLrjzK2X1ezoPC6cr - Harry\n",
      "22: TX3LPaxmHKxFdv7VOQHJ - Liam\n",
      "23: ThT5KcBeYPX3keUQqHPh - Dorothy\n",
      "24: TxGEqnHWrfWFTfGW9XjX - Josh\n",
      "25: VR6AewLTigWG4xSOukaG - Arnold\n",
      "26: XB0fDUnXU5powFXDhCwa - Charlotte\n",
      "27: Xb7hH8MSUJpSbSDYk0k2 - Alice\n",
      "28: XrExE9yKIg1WjnnlVkGX - Matilda\n",
      "29: ZQe5CZNOzWyzPSCn5a3c - James\n",
      "30: Zlb1dXrM653N07WRdFW3 - Joseph\n"
     ]
    }
   ],
   "source": [
    "# Desired range (from 1st to TOT_VOICES)\n",
    "PAGE_SIZE = 10\n",
    "TOT_VOICES = 30\n",
    "\n",
    "# Counter for global position\n",
    "count = 0\n",
    "\n",
    "# First page\n",
    "response = elevenlabs.voices.search(page_size = PAGE_SIZE)\n",
    "\n",
    "for idx, i in enumerate(response.voices):\n",
    "    print(f\"{idx+1}: {i.voice_id} - {i.name}\")\n",
    "\n",
    "while True:\n",
    "    for v in response.voices:\n",
    "        count += 1\n",
    "        # Only print if within the desired range\n",
    "        if (PAGE_SIZE+1) <= count <= TOT_VOICES:\n",
    "            print(f\"{count}: {v.voice_id} - {v.name}\")\n",
    "        # Stop if we've reached the end_index\n",
    "        if count >= TOT_VOICES:\n",
    "            break\n",
    "\n",
    "    # Stop the outer loop too if we've reached the limit or no next page\n",
    "    if count >= TOT_VOICES or not response.next_page_token:\n",
    "        break\n",
    "\n",
    "    # Get next page\n",
    "    response = elevenlabs.voices.search(\n",
    "        page_size = PAGE_SIZE,\n",
    "        next_page_token = response.next_page_token\n",
    "    )"
   ]
  },
  {
   "cell_type": "markdown",
   "id": "5accf211",
   "metadata": {},
   "source": [
    "### Create the audio file from the text\n",
    "**George**"
   ]
  },
  {
   "cell_type": "code",
   "execution_count": 8,
   "id": "5cea51ac",
   "metadata": {},
   "outputs": [],
   "source": [
    "with open(f'elevenlabs_{MODEL}_George_test1.mp3', \"wb\") as f:\n",
    "    for chunk in elevenlabs.text_to_speech.convert(\n",
    "        voice_id=\"JBFqnCBsd6RMkjVDRZzb\", # George. https://elevenlabs.io/docs/api-reference/voices/search or https://elevenlabs.io/app/default-voices\n",
    "        output_format=\"mp3_22050_32\", # https://elevenlabs.io/docs/api-reference/text-to-speech/convert#request.query.output_format.output_format\n",
    "        text=\"Šis žagaru saišķis nav mans žagaru saišķis. Visneiedomājamākais šaursliežu dzelzceļš.\",\n",
    "        language_code=\"lv\", # ISO 639-1 (two-letter code)\n",
    "        model_id=MODEL):\n",
    "        if chunk:\n",
    "            f.write(chunk)"
   ]
  },
  {
   "cell_type": "markdown",
   "id": "e8925b05",
   "metadata": {},
   "source": [
    "**Jessica**"
   ]
  },
  {
   "cell_type": "code",
   "execution_count": 9,
   "id": "7dad8783",
   "metadata": {},
   "outputs": [],
   "source": [
    "with open(f'elevenlabs_{MODEL}_Jessica_test2.mp3', \"wb\") as f:\n",
    "    for chunk in elevenlabs.text_to_speech.convert(\n",
    "        voice_id=\"cgSgspJ2msm6clMCkdW9\", # Jessica. https://elevenlabs.io/docs/api-reference/voices/search or https://elevenlabs.io/app/default-voices\n",
    "        output_format=\"mp3_22050_32\", # https://elevenlabs.io/docs/api-reference/text-to-speech/convert#request.query.output_format.output_format\n",
    "        text=\"Šis žagaru saišķis nav mans žagaru saišķis. Visneiedomājamākais šaursliežu dzelzceļš.\",\n",
    "        language_code=\"lv\", # ISO 639-1 (two-letter code)\n",
    "        model_id=MODEL):\n",
    "        if chunk:\n",
    "            f.write(chunk)"
   ]
  },
  {
   "cell_type": "markdown",
   "id": "674a3f9d",
   "metadata": {},
   "source": [
    "### Audio tags\n",
    "[Situational awareness](https://elevenlabs.io/blog/eleven-v3-situational-awareness)\n",
    "- Emotional tone: [EXCITED], [NERVOUS], [FRUSTRATED], [TIRED]\n",
    "- Reactions: [GASP], [SIGH], [LAUGHS], [GULPS]\n",
    "- Volume & energy: [WHISPERING], [SHOUTING], [QUIETLY], [LOUDLY]\n",
    "- Pacing & rhythm: [PAUSES], [STAMMERS], [RUSHED]\n",
    "\n",
    "[Character performance](https://elevenlabs.io/blog/eleven-v3-character-direction)\n",
    "- Accents & dialects: [British accent], [Australian accent], [Southern US accent]\n",
    "- Archetypes & roles: [pirate voice], [evil scientist voice], [childlike tone]\n",
    "- Speech styles: [dramatic], [sarcastically], [matter-of-fact], [whiny]\n",
    "- Genre cues: [fantasy narrator], [sci-fi AI voice], [classic film noir]\n",
    "\n",
    "[Emotional context](https://elevenlabs.io/blog/eleven-v3-audio-tags-expressing-emotional-context-in-speech)\n",
    "- Emotional states: [excited], [nervous], [frustrated], [sorrowful], [calm]\n",
    "- Reactions: [sigh], [laughs], [gulps], [gasps], [whispers]\n",
    "- Cognitive beats: [pauses], [hesitates], [stammers], [resigned tone]\n",
    "- Tone cues: [cheerfully], [flatly], [deadpan], [playfully]\n",
    "\n",
    "[Narrative control](https://elevenlabs.io/blog/eleven-v3-audio-tags-enabling-narrative-intelligence-in-speech)\n",
    "- Story beats: [pause], [continues softly], [hesitates], [resigned]\n",
    "- Tone setting: [dramatic tone], [lighthearted], [reflective], [serious tone]\n",
    "- Narrator POV: [awe], [sarcastic tone], [wistful], [matter-of-fact]\n",
    "- Rhythm & flow: [slows down], [rushed], [emphasized]\n",
    "\n",
    "[Multi-character control](https://elevenlabs.io/blog/eleven-v3-audio-tags-bringing-multi-character-dialogue-to-life)\n",
    "- Turn-taking cues: [interrupting], [overlapping], [cuts in]\n",
    "- Emotional shifts: [excited], [annoyed], [flustered], [casual]\n",
    "- Rhythmic flow: [fast-paced], [hesitates], [pause], [drawn out]\n",
    "- Identity switching: [childlike tone], [deep voice], [pirate voice], [robotic tone]\n",
    "\n",
    "[Controlling timing, pacing, and presence](https://elevenlabs.io/blog/eleven-v3-audio-tags-precision-delivery-control-for-ai-speech)\n",
    "- Pauses & breaks: [pause], [breathes], [continues after a beat]\n",
    "- Speed cues: [rushed], [slows down], [deliberate], [rapid-fire]\n",
    "- Hesitation & rhythm: [stammers], [drawn out], [repeats], [timidly]\n",
    "- Emphasis: [emphasized], [stress on next word], [understated]\n",
    "\n",
    "[Accent and dialect](https://elevenlabs.io/blog/eleven-v3-audio-tags-emulating-accents-with-precision)\n",
    "- Global English variants: [American accent], [British accent], [Australian accent], [Indian English], [Irish accent]\n",
    "- Continental accents: [French accent], [German accent], [Spanish accent], [Italian accent], [Russian accent]\n",
    "- Regional dialects & characters: [Southern US accent], [New York accent], [Scottish accent], [pirate voice], [robotic tone]"
   ]
  },
  {
   "cell_type": "code",
   "execution_count": null,
   "id": "bdef30c0",
   "metadata": {},
   "outputs": [],
   "source": [
    "# Fragment from a Latvian folk tale \"Ķēniņa mīļā meita\"\n",
    "    # https://asakas.net/pasakas/latviesu-pasakas/latviesu_tautas_pasakas/k/kenina-mila-meita/\n",
    "\n",
    "text3 = \"\"\"\"Tas sācis ēst, bet tad uzlecis no krēsla un kliedzis: [SHOUTING] \"Kas tā par būšanu? \\\n",
    "[SHOUTING] Tas ēdiens pavisam bez sāls, lai atnāk pati ēdiena vārītāja!\n",
    "\"\"\"\n",
    "\n",
    "text4 = \"\"\"\"Tas sācis ēst, bet tad uzlecis no krēsla un teica: [WHISPER] \"Kas tā par būšanu? \\\n",
    "[WHISPER] Tas ēdiens pavisam bez sāls, lai atnāk pati ēdiena vārītāja!\n",
    "\"\"\"\n",
    "\n",
    "text5 = \"\"\"\"Tas sācis ēst, bet tad uzlecis no krēsla un teica: [QUIETLY] \"Kas tā par būšanu? \\\n",
    "[QUIETLY] Tas ēdiens pavisam bez sāls, lai atnāk pati ēdiena vārītāja!\n",
    "\"\"\""
   ]
  },
  {
   "cell_type": "markdown",
   "id": "a228dbf9",
   "metadata": {},
   "source": [
    "*SHOUTING*"
   ]
  },
  {
   "cell_type": "code",
   "execution_count": null,
   "id": "0f1ccd68",
   "metadata": {},
   "outputs": [],
   "source": [
    "with open(f'elevenlabs_{MODEL}_Jessica_shouting_test3.mp3', \"wb\") as f:\n",
    "    for chunk in elevenlabs.text_to_speech.convert(\n",
    "        voice_id = \"cgSgspJ2msm6clMCkdW9\", # Jessica. https://elevenlabs.io/docs/api-reference/voices/search or https://elevenlabs.io/app/default-voices\n",
    "        output_format = \"mp3_22050_32\", # https://elevenlabs.io/docs/api-reference/text-to-speech/convert#request.query.output_format.output_format\n",
    "        text = text3,\n",
    "        language_code = \"lv\", # ISO 639-1 (two-letter code)\n",
    "        model_id = MODEL):\n",
    "        if chunk:\n",
    "            f.write(chunk)"
   ]
  },
  {
   "cell_type": "markdown",
   "id": "d763ef50",
   "metadata": {},
   "source": [
    "*WHISPER*"
   ]
  },
  {
   "cell_type": "code",
   "execution_count": 27,
   "id": "4f2df089",
   "metadata": {},
   "outputs": [],
   "source": [
    "with open(f'elevenlabs_{MODEL}_Jessica_whisper_test4.mp3', \"wb\") as f:\n",
    "    for chunk in elevenlabs.text_to_speech.convert(\n",
    "        voice_id = \"cgSgspJ2msm6clMCkdW9\", # Jessica. https://elevenlabs.io/docs/api-reference/voices/search or https://elevenlabs.io/app/default-voices\n",
    "        output_format = \"mp3_22050_32\", # https://elevenlabs.io/docs/api-reference/text-to-speech/convert#request.query.output_format.output_format\n",
    "        text = text4,\n",
    "        language_code = \"lv\", # ISO 639-1 (two-letter code)\n",
    "        model_id = MODEL):\n",
    "        if chunk:\n",
    "            f.write(chunk)"
   ]
  },
  {
   "cell_type": "markdown",
   "id": "d9f693c0",
   "metadata": {},
   "source": [
    "*QUIETLY*"
   ]
  },
  {
   "cell_type": "code",
   "execution_count": 28,
   "id": "557dd9f3",
   "metadata": {},
   "outputs": [],
   "source": [
    "with open(f'elevenlabs_{MODEL}_Jessica_quietly_test5.mp3', \"wb\") as f:\n",
    "    for chunk in elevenlabs.text_to_speech.convert(\n",
    "        voice_id = \"cgSgspJ2msm6clMCkdW9\", # Jessica. https://elevenlabs.io/docs/api-reference/voices/search or https://elevenlabs.io/app/default-voices\n",
    "        output_format = \"mp3_22050_32\", # https://elevenlabs.io/docs/api-reference/text-to-speech/convert#request.query.output_format.output_format\n",
    "        text = text5,\n",
    "        language_code = \"lv\", # ISO 639-1 (two-letter code)\n",
    "        model_id = MODEL):\n",
    "        if chunk:\n",
    "            f.write(chunk)"
   ]
  },
  {
   "cell_type": "markdown",
   "id": "9b66384a",
   "metadata": {},
   "source": [
    "*Combining emotions*"
   ]
  },
  {
   "cell_type": "code",
   "execution_count": null,
   "id": "f8ef7ad7",
   "metadata": {},
   "outputs": [],
   "source": [
    "# Fragment from a Latvian folk tale \"Mājas pele un lauku pele\"\n",
    "    # https://asakas.net/pasakas/latviesu-pasakas/latviesu_tautas_pasakas/m/majas-pele-un-lauku-pele/\n",
    "\n",
    "text6 = \"\"\"[proudly] \"Nu labdien! Vai pazīsti arī vēl savu radinieci?\" \\\n",
    "[humbly]\"Labdien, labdien! Kā tad nu māsas nepazīšu? [excited] Ak, tavus priekus, ka pie manis atnāci! Bet vai ceļu labi zināji, vai neapmaldījies?\" \\\n",
    "\"Kur nu maldīsies? Bet saki, māsiņ, [disgust] kas tā tur par tādu spurguļainu gubu?\" \\\n",
    "[shy] \"Tie jau sadīguši graudi, mana vienīgā barība, mana vienīgā maizīte!\" lauku pele bēdīgi atbild. \\\n",
    "[whiny] \"Ak Dievs, tāda maize!\" mājas pele lepni brīnās, [whiny] \"man pie tādas maizes būtu jānomirst badā.\" \"\"\""
   ]
  },
  {
   "cell_type": "code",
   "execution_count": 32,
   "id": "6d060b91",
   "metadata": {},
   "outputs": [],
   "source": [
    "with open(f'elevenlabs_{MODEL}_Jessica_combo_test6.mp3', \"wb\") as f:\n",
    "    for chunk in elevenlabs.text_to_speech.convert(\n",
    "        voice_id = \"cgSgspJ2msm6clMCkdW9\", # Jessica. https://elevenlabs.io/docs/api-reference/voices/search or https://elevenlabs.io/app/default-voices\n",
    "        output_format = \"mp3_22050_32\", # https://elevenlabs.io/docs/api-reference/text-to-speech/convert#request.query.output_format.output_format\n",
    "        text = text6,\n",
    "        language_code = \"lv\", # ISO 639-1 (two-letter code)\n",
    "        model_id = MODEL):\n",
    "        if chunk:\n",
    "            f.write(chunk)"
   ]
  },
  {
   "cell_type": "markdown",
   "id": "58227320",
   "metadata": {},
   "source": [
    "### Using professional voice clone\n",
    "- https://elevenlabs.io/docs/product-guides/voices/voice-cloning/professional-voice-cloning"
   ]
  },
  {
   "cell_type": "code",
   "execution_count": 33,
   "id": "43bb092f",
   "metadata": {},
   "outputs": [],
   "source": [
    "MODEL = \"eleven_multilingual_v2\""
   ]
  },
  {
   "cell_type": "code",
   "execution_count": 34,
   "id": "1721b924",
   "metadata": {},
   "outputs": [],
   "source": [
    "# Fragment from The Guardian article: \"Signs of life? Why Saturn moon offers hope of finding ET in Earth’s back yard\"\n",
    "    # https://www.theguardian.com/science/2025/oct/04/saturn-moon-enceladus-life-carbon\n",
    "\n",
    "text7 = \"\"\"From tentative evidence of habitable planets to the eyebrow-raising suggestion an \\\n",
    "interstellar comet might not be what it seems, \\\n",
    "the possibility of life beyond our solar system has long tantalised scientists and the public alike. \\\n",
    "But experts say ET is more likely to be found if we search in our own back yard. \\\n",
    "The prospect was revitalised on Wednesday when scientists announced the likelihood has risen \\\n",
    "that Saturn’s sixth largest moon may be habitable after a study found Enceladus is spewing out a wider array of carbon-based substances than previously known. \\\n",
    "“I really like Enceladus because it has all the conditions that are at the same place at the time for life to evolve and to thrive,” \\\n",
    "said Dr Caroline Freissinet, of the French National Centre for Scientific Research.\"\"\""
   ]
  },
  {
   "cell_type": "code",
   "execution_count": 35,
   "id": "74cdc748",
   "metadata": {},
   "outputs": [],
   "source": [
    "with open(f'elevenlabs_{MODEL}_Aivis_en_test7.mp3', \"wb\") as f:\n",
    "    for chunk in elevenlabs.text_to_speech.convert(\n",
    "        voice_id = \"5HJUiDifBO0eCW49J53P\", # ID from My Voices: https://elevenlabs.io/app/voice-lab\n",
    "        output_format = \"mp3_22050_32\", # https://elevenlabs.io/docs/api-reference/text-to-speech/convert#request.query.output_format.output_format\n",
    "        text = text7,\n",
    "        language_code = \"en\", # ISO 639-1 (two-letter code)\n",
    "        model_id = MODEL):\n",
    "        if chunk:\n",
    "            f.write(chunk)"
   ]
  },
  {
   "cell_type": "markdown",
   "id": "c94d1716",
   "metadata": {},
   "source": [
    "### Versions"
   ]
  },
  {
   "cell_type": "code",
   "execution_count": 7,
   "id": "161abdbe",
   "metadata": {},
   "outputs": [
    {
     "data": {
      "text/markdown": [
       "Python version: 3.13.3 (tags/v3.13.3:6280bb5, Apr  8 2025, 14:47:33) [MSC v.1943 64 bit (AMD64)]\n",
       "\n",
       "[elevenlabs](https://pypi.org/project/elevenlabs/) version: 2.16.0\n",
       "\n",
       "[python-dotenv](https://pypi.org/project/python-dotenv/) version: 1.1.1\n",
       "\n"
      ],
      "text/plain": [
       "<IPython.core.display.Markdown object>"
      ]
     },
     "metadata": {},
     "output_type": "display_data"
    }
   ],
   "source": [
    "from importlib.metadata import version\n",
    "from IPython.display import Markdown, display # pip install ipython\n",
    "import sys\n",
    "\n",
    "packages = ['elevenlabs', 'python-dotenv']\n",
    "\n",
    "text = f\"Python version: {sys.version}\\n\\n\"\n",
    "for i in packages:\n",
    "    text += f\"[{i}](https://pypi.org/project/{i}/) version: {version(i)}\\n\\n\"\n",
    "display(Markdown(text))"
   ]
  }
 ],
 "metadata": {
  "kernelspec": {
   "display_name": ".venv3",
   "language": "python",
   "name": "python3"
  },
  "language_info": {
   "codemirror_mode": {
    "name": "ipython",
    "version": 3
   },
   "file_extension": ".py",
   "mimetype": "text/x-python",
   "name": "python",
   "nbconvert_exporter": "python",
   "pygments_lexer": "ipython3",
   "version": "3.13.3"
  }
 },
 "nbformat": 4,
 "nbformat_minor": 5
}
