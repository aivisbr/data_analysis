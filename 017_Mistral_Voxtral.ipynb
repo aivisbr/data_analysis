{
 "cells": [
  {
   "cell_type": "markdown",
   "metadata": {},
   "source": [
    "# Mistral Voxtral\n",
    "- Announcement: https://mistral.ai/news/voxtral\n",
    "- Docs: https://docs.mistral.ai/capabilities/audio/"
   ]
  },
  {
   "cell_type": "code",
   "execution_count": 28,
   "metadata": {},
   "outputs": [],
   "source": [
    "import getpass\n",
    "from io import BytesIO\n",
    "import json\n",
    "import math\n",
    "#from mistralai import Mistral # pip install mistralai\n",
    "import os\n",
    "from pydub import AudioSegment # pip install pydub\n",
    "import requests # pip install requests"
   ]
  },
  {
   "cell_type": "code",
   "execution_count": 2,
   "metadata": {},
   "outputs": [],
   "source": [
    "def _set_env(var: str):\n",
    "    if not os.environ.get(var):\n",
    "        os.environ[var] = getpass.getpass(f\"Enter {var}: \")\n",
    "\n",
    "_set_env(\"MISTRAL_API_KEY\")"
   ]
  },
  {
   "cell_type": "code",
   "execution_count": 29,
   "metadata": {},
   "outputs": [],
   "source": [
    "# For transcription use only \"voxtral-mini-2507\" not small (https://docs.mistral.ai/capabilities/audio/#transcription)\n",
    "MODEL_NAME = \"voxtral-mini-2507\" # https://docs.mistral.ai/getting-started/models/models_overview/\n",
    "TRANSCR_ENDPOINT = \"https://api.mistral.ai/v1/audio/transcriptions\" # https://docs.mistral.ai/capabilities/audio/\n",
    "FILE_ENDPOINT = \"https://api.mistral.ai/v1/files\""
   ]
  },
  {
   "cell_type": "code",
   "execution_count": 30,
   "metadata": {},
   "outputs": [],
   "source": [
    "headers = {\n",
    "    \"x-api-key\": os.getenv('MISTRAL_API_KEY')\n",
    "}"
   ]
  },
  {
   "cell_type": "markdown",
   "metadata": {},
   "source": [
    "Upload the Audio File (trying Latvian)\n",
    "- no more than 15 min (https://docs.mistral.ai/capabilities/audio/#faq)"
   ]
  },
  {
   "cell_type": "code",
   "execution_count": null,
   "metadata": {},
   "outputs": [],
   "source": [
    "str_input_file = \"LAT.mp3\" # ~101 min long audio, therefore I need to split it in 8 parts\n",
    "audio = AudioSegment.from_file(str_input_file)"
   ]
  },
  {
   "cell_type": "code",
   "execution_count": null,
   "metadata": {},
   "outputs": [],
   "source": [
    "chunk_length_ms = 14 * 60 * 1000 # each chunk will be 14 min or 840'000 ms long (14 min * 60 sec * 1000 ms)\n",
    "total_chunks = math.ceil(len(audio) / chunk_length_ms) # 8 chunks"
   ]
  },
  {
   "cell_type": "code",
   "execution_count": null,
   "metadata": {},
   "outputs": [],
   "source": [
    "# Output directory - where all chunked audio files and transcriptions will be stored\n",
    "output_dir = \"audio_chunks\"\n",
    "os.makedirs(output_dir, exist_ok=True)"
   ]
  },
  {
   "cell_type": "markdown",
   "metadata": {},
   "source": [
    "**Audio in Latvian**"
   ]
  },
  {
   "cell_type": "code",
   "execution_count": null,
   "metadata": {},
   "outputs": [
    {
     "name": "stdout",
     "output_type": "stream",
     "text": [
      "Processing chunk 1/8\n",
      "Request failed: 404 Client Error: Not Found for url: https://api.mistral.ai/v1/audio/transcriptions\n",
      "Processing chunk 2/8\n",
      "Processing chunk 3/8\n",
      "Processing chunk 4/8\n",
      "Request failed: 404 Client Error: Not Found for url: https://api.mistral.ai/v1/audio/transcriptions\n",
      "Processing chunk 5/8\n",
      "Processing chunk 6/8\n",
      "Processing chunk 7/8\n",
      "Request failed: 404 Client Error: Not Found for url: https://api.mistral.ai/v1/audio/transcriptions\n",
      "Processing chunk 8/8\n"
     ]
    }
   ],
   "source": [
    "# Split audio, export and transcribe\n",
    "for i in range(total_chunks):\n",
    "    print(f\"Processing chunk {i+1}/{total_chunks}\")\n",
    "\n",
    "    start_ms = i * chunk_length_ms\n",
    "    end_ms = min((i + 1) * chunk_length_ms, len(audio))\n",
    "    chunk = audio[start_ms:end_ms]\n",
    "    \n",
    "    # Save to disk\n",
    "    filename = f\"part_{i+1:02d}.mp3\"\n",
    "    filepath = os.path.join(output_dir, filename)\n",
    "    chunk.export(filepath, format=\"mp3\")\n",
    "\n",
    "    # Prepare in-memory MP3 for upload\n",
    "    buffer = BytesIO()\n",
    "    chunk.export(buffer, format=\"mp3\")\n",
    "    buffer.seek(0)\n",
    "\n",
    "    files = {\n",
    "        \"purpose\": (None, \"audio\"),\n",
    "        \"file\": (f\"part_{i+1:02d}.mp3\", buffer, \"audio/mpeg\")  # (filename, file_object, MIME type)\n",
    "    }\n",
    "\n",
    "    response = requests.post(FILE_ENDPOINT, headers=headers, files=files)\n",
    "    response.raise_for_status()\n",
    "\n",
    "    fileid = response.json()['id']\n",
    "\n",
    "    signedurlreq = requests.get(f\"https://api.mistral.ai/v1/files/{fileid}/url?expiry=24\", headers={\n",
    "    \"Accept\": \"application/json\",\n",
    "    \"x-api-key\": os.getenv('MISTRAL_API_KEY')\n",
    "    })\n",
    "\n",
    "    files = {\n",
    "    \"file_url\": (None, signedurlreq.json()['url']),\n",
    "    \"model\": (None, MODEL_NAME),\n",
    "    \"language\": (None, \"lv\"),\n",
    "    \"timestamp_granularities\": (None, \"segment\")\n",
    "    }\n",
    "\n",
    "    try:\n",
    "        resp = requests.post(TRANSCR_ENDPOINT, headers=headers, files=files, timeout=130)\n",
    "        resp.raise_for_status() # raises for 4xx/5xx\n",
    "\n",
    "        with open(os.path.join(output_dir, f\"part_{i+1:02d}.json\"), \"w\", encoding=\"utf-8\") as f:\n",
    "            json.dump(resp.json(), f, ensure_ascii=False, indent=2)\n",
    "    except requests.RequestException as err:\n",
    "        print(f\"Request failed: {err}\")   "
   ]
  },
  {
   "cell_type": "markdown",
   "metadata": {},
   "source": [
    "There are 3 errors, so these parts should be re-run, but since the Latvian transcription is of poor quality, there is no point in running it."
   ]
  },
  {
   "cell_type": "markdown",
   "metadata": {},
   "source": [
    "Upload the Audio File (English audio)  \n",
    "**.m4a**"
   ]
  },
  {
   "cell_type": "code",
   "execution_count": null,
   "metadata": {},
   "outputs": [
    {
     "name": "stdout",
     "output_type": "stream",
     "text": [
      "Request failed: 422 Client Error: Unprocessable Entity for url: https://api.mistral.ai/v1/files\n"
     ]
    }
   ],
   "source": [
    "# Open the local file in binary mode\n",
    "with open(\"Recording.m4a\", \"rb\") as f:\n",
    "    files = {\n",
    "        \"purpose\": (None, \"audio\"),\n",
    "        \"file\": (\"Recording.m4a\", f, \"audio/mp4\")  # (filename, file_object, MIME type)\n",
    "    }\n",
    "\n",
    "    try:\n",
    "        response = requests.post(FILE_ENDPOINT, headers=headers, files=files)\n",
    "        response.raise_for_status()\n",
    "    except requests.RequestException as err:\n",
    "        print(f\"Request failed: {err}\") "
   ]
  },
  {
   "cell_type": "markdown",
   "metadata": {},
   "source": [
    "Error, so trying to convert .m4a into .mp3 format"
   ]
  },
  {
   "cell_type": "markdown",
   "metadata": {},
   "source": [
    "**.mp3**"
   ]
  },
  {
   "cell_type": "code",
   "execution_count": null,
   "metadata": {},
   "outputs": [],
   "source": [
    "# Open the local file in binary mode\n",
    "with open(\"Recording.mp3\", \"rb\") as f:\n",
    "    files = {\n",
    "        \"purpose\": (None, \"audio\"),\n",
    "        \"file\": (\"Recording.mp3\", f, \"audio/mpeg\")  # (filename, file_object, MIME type)\n",
    "    }\n",
    "\n",
    "    response = requests.post(FILE_ENDPOINT, headers=headers, files=files)\n",
    "    response.raise_for_status()\n",
    "    #print(response.json())"
   ]
  },
  {
   "cell_type": "code",
   "execution_count": 33,
   "metadata": {},
   "outputs": [],
   "source": [
    "fileid = response.json()['id']"
   ]
  },
  {
   "cell_type": "markdown",
   "metadata": {},
   "source": [
    "Get the Signed URL"
   ]
  },
  {
   "cell_type": "code",
   "execution_count": 34,
   "metadata": {},
   "outputs": [],
   "source": [
    "signedurlreq = requests.get(f\"https://api.mistral.ai/v1/files/{fileid}/url?expiry=24\", headers={\n",
    "    \"Accept\": \"application/json\",\n",
    "    \"x-api-key\": os.getenv('MISTRAL_API_KEY')\n",
    "})"
   ]
  },
  {
   "cell_type": "markdown",
   "metadata": {},
   "source": [
    "**Transcription**"
   ]
  },
  {
   "cell_type": "markdown",
   "metadata": {},
   "source": [
    "Using link to the audio file"
   ]
  },
  {
   "cell_type": "code",
   "execution_count": null,
   "metadata": {},
   "outputs": [],
   "source": [
    "files = {\n",
    "    \"file_url\": (None, signedurlreq.json()['url']),\n",
    "    #\"file_url\": (None, \"https://docs.mistral.ai/audio/obama.mp3\"), # Example\n",
    "    \"model\": (None, MODEL_NAME),\n",
    "    #\"language\": (None, \"lv\"),\n",
    "    \"timestamp_granularities\": (None, \"segment\")\n",
    "}"
   ]
  },
  {
   "cell_type": "code",
   "execution_count": 37,
   "metadata": {},
   "outputs": [],
   "source": [
    "try:\n",
    "    resp = requests.post(TRANSCR_ENDPOINT, headers=headers, files=files, timeout=60)\n",
    "    resp.raise_for_status() # raises for 4xx/5xx\n",
    "except requests.RequestException as err:\n",
    "    print(f\"Request failed: {err}\")"
   ]
  },
  {
   "cell_type": "code",
   "execution_count": 39,
   "metadata": {},
   "outputs": [],
   "source": [
    "with open(os.path.join(output_dir, f\"out_ENG.json\"), \"w\", encoding=\"utf-8\") as f:\n",
    "    json.dump(resp.json(), f, ensure_ascii=False, indent=2)"
   ]
  },
  {
   "cell_type": "code",
   "execution_count": 42,
   "metadata": {},
   "outputs": [
    {
     "data": {
      "text/plain": [
       "[{'text': ' Mathematical imprints. How does mathematics make you feel? For many people, mathematics can seem forbidding, too hard, too cold, too abstract.',\n",
       "  'start': 0.0,\n",
       "  'end': 12.0},\n",
       " {'text': ' That sense of dread may have started at school, especially when mathematics lessons were a matter of manipulating symbols and doing obscure calculations.',\n",
       "  'start': 12.0,\n",
       "  'end': 25.0},\n",
       " {'text': ' or it can be inherited or passed on by others.',\n",
       "  'start': 24.8,\n",
       "  'end': 30.4},\n",
       " {'text': ' If people around you are talking about maths being difficult or pointless,',\n",
       "  'start': 30.4,\n",
       "  'end': 35.5},\n",
       " {'text': \" you're very likely to think the same.\",\n",
       "  'start': 35.5,\n",
       "  'end': 37.9}]"
      ]
     },
     "execution_count": 42,
     "metadata": {},
     "output_type": "execute_result"
    }
   ],
   "source": [
    "# Sample\n",
    "resp.json()['segments'][:5]"
   ]
  },
  {
   "cell_type": "markdown",
   "metadata": {},
   "source": [
    "Uploading audio file from the filesystem"
   ]
  },
  {
   "cell_type": "code",
   "execution_count": null,
   "metadata": {},
   "outputs": [],
   "source": [
    "# Open the local file in binary mode\n",
    "with open(\"out.mp3\", \"rb\") as f:\n",
    "    files = {\n",
    "        \"model\": (None, MODEL_NAME),\n",
    "        \"file\": (\"out.mp3\", f, \"audio/mpeg\"),  # (filename, file_object, MIME type)\n",
    "        #\"timestamp_granularities\": (None, \"segment\")\n",
    "    }\n",
    "\n",
    "    resp = requests.post(TRANSCR_ENDPOINT, headers=headers, files=files)\n",
    "    resp.raise_for_status()"
   ]
  },
  {
   "cell_type": "markdown",
   "metadata": {},
   "source": [
    "ENG result\n",
    "- 'text' key excluded to not show all transcribed text\n",
    "- if \"timestamp_granularities\" is not defined then 'segments' value will be empty"
   ]
  },
  {
   "cell_type": "code",
   "execution_count": null,
   "metadata": {},
   "outputs": [
    {
     "data": {
      "text/plain": [
       "{'model': 'voxtral-mini-2507',\n",
       " 'language': 'en',\n",
       " 'segments': [],\n",
       " 'usage': {'prompt_audio_seconds': 843,\n",
       "  'prompt_tokens': 4,\n",
       "  'total_tokens': 12810,\n",
       "  'completion_tokens': 1931}}"
      ]
     },
     "execution_count": 48,
     "metadata": {},
     "output_type": "execute_result"
    }
   ],
   "source": [
    "# Removed the 'text' field\n",
    "filtered_data = {k: v for k, v in resp.json().items() if k != 'text'}\n",
    "filtered_data"
   ]
  },
  {
   "cell_type": "markdown",
   "metadata": {},
   "source": [
    "## Versions"
   ]
  },
  {
   "cell_type": "code",
   "execution_count": 26,
   "metadata": {},
   "outputs": [
    {
     "data": {
      "text/markdown": [
       "Python version: 3.13.3 (tags/v3.13.3:6280bb5, Apr  8 2025, 14:47:33) [MSC v.1943 64 bit (AMD64)]\n",
       "\n",
       "[pydub](https://pypi.org/project/pydub/) version: 0.25.1\n",
       "\n",
       "[requests](https://pypi.org/project/requests/) version: 2.32.3\n",
       "\n"
      ],
      "text/plain": [
       "<IPython.core.display.Markdown object>"
      ]
     },
     "metadata": {},
     "output_type": "display_data"
    }
   ],
   "source": [
    "from importlib.metadata import version\n",
    "from IPython.display import Markdown, display # pip install ipython\n",
    "import sys\n",
    "\n",
    "packages = ['pydub', 'requests']\n",
    "\n",
    "text = f\"Python version: {sys.version}\\n\\n\"\n",
    "for i in packages:\n",
    "    text += f\"[{i}](https://pypi.org/project/{i}/) version: {version(i)}\\n\\n\"\n",
    "display(Markdown(text))"
   ]
  }
 ],
 "metadata": {
  "kernelspec": {
   "display_name": ".env2",
   "language": "python",
   "name": "python3"
  },
  "language_info": {
   "codemirror_mode": {
    "name": "ipython",
    "version": 3
   },
   "file_extension": ".py",
   "mimetype": "text/x-python",
   "name": "python",
   "nbconvert_exporter": "python",
   "pygments_lexer": "ipython3",
   "version": "3.13.3"
  }
 },
 "nbformat": 4,
 "nbformat_minor": 2
}
