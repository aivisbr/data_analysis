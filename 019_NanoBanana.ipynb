{
 "cells": [
  {
   "cell_type": "markdown",
   "metadata": {},
   "source": [
    "# Gemini 2.5 Flash Image a.k.a. Nano Banana\n",
    "- Announcement: https://blog.google/products/gemini/updated-image-editing-model/\n",
    "- Docs: https://ai.google.dev/gemini-api/docs/image-generation"
   ]
  },
  {
   "cell_type": "markdown",
   "metadata": {},
   "source": [
    "Created for this article: https://aivis.medium.com/attēlu-veidošana-ar-nano-banana-f92878678da6"
   ]
  },
  {
   "cell_type": "code",
   "execution_count": 18,
   "metadata": {},
   "outputs": [],
   "source": [
    "from dotenv import load_dotenv # pip install python-dotenv\n",
    "from google import genai # pip install google-genai\n",
    "import os\n",
    "from PIL import Image # pip install Pillow\n",
    "from io import BytesIO"
   ]
  },
  {
   "cell_type": "code",
   "execution_count": 17,
   "metadata": {},
   "outputs": [
    {
     "data": {
      "text/plain": [
       "True"
      ]
     },
     "execution_count": 17,
     "metadata": {},
     "output_type": "execute_result"
    }
   ],
   "source": [
    "# Load the .env file\n",
    "load_dotenv()"
   ]
  },
  {
   "cell_type": "code",
   "execution_count": null,
   "metadata": {},
   "outputs": [],
   "source": [
    "client = genai.Client()\n",
    "# client = genai.Client(api_key=os.getenv('GEMINI_API_KEY'))"
   ]
  },
  {
   "cell_type": "markdown",
   "metadata": {},
   "source": [
    "## Image generation (text-to-image)"
   ]
  },
  {
   "cell_type": "code",
   "execution_count": null,
   "metadata": {},
   "outputs": [],
   "source": [
    "prompt1 = \"\"\"\n",
    "A dramatic, photorealistic aerial view looking straight down from the Vanšu Bridge in Riga, Latvia.\n",
    "The scene captures the bridge’s distinctive suspension cables stretching into the foreground,\n",
    "with the Daugava River flowing beneath.\n",
    "The atmosphere is tense and cinematic: dark storm clouds dominate the sky,\n",
    "illuminated by bright flashes of lightning in the distance.\n",
    "The stormy light reflects off the water’s surface, creating shimmering highlights and deep shadows.\n",
    "The city skyline is partially visible through the haze, adding depth and realism.\n",
    "The overall tone should feel powerful and dramatic, blending architectural detail of the bridge with the raw energy of the storm.\n",
    "\n",
    "Style settings:\n",
    "- Photorealism\n",
    "- High dynamic range lighting (HDR)\n",
    "- Ultra-detailed textures (steel cables, rippling water, clouds)\n",
    "- Cinematic contrast and dramatic atmosphere\n",
    "\"\"\""
   ]
  },
  {
   "cell_type": "code",
   "execution_count": 7,
   "metadata": {},
   "outputs": [
    {
     "name": "stdout",
     "output_type": "stream",
     "text": [
      "Here's that dramatic aerial view from the Vanšu Bridge you described: \n"
     ]
    }
   ],
   "source": [
    "response = client.models.generate_content(\n",
    "    model=\"gemini-2.5-flash-image-preview\",\n",
    "    contents=[prompt1],\n",
    ")\n",
    "\n",
    "for part in response.candidates[0].content.parts:\n",
    "    if part.text is not None:\n",
    "        print(part.text)\n",
    "    elif part.inline_data is not None:\n",
    "        image = Image.open(BytesIO(part.inline_data.data))\n",
    "        image.save(\"prompt1_vansu_bridge.png\")"
   ]
  },
  {
   "cell_type": "markdown",
   "metadata": {},
   "source": [
    "## Image editing (text-and-image-to-image)"
   ]
  },
  {
   "cell_type": "code",
   "execution_count": null,
   "metadata": {},
   "outputs": [],
   "source": [
    "# https://lv.m.wikipedia.org/wiki/Att%C4%93ls:Rozentals_No_kapsetas.jpg\n",
    "image1 = Image.open(\"Rozentals_No_kapsetas.jpg\")"
   ]
  },
  {
   "cell_type": "code",
   "execution_count": 9,
   "metadata": {},
   "outputs": [],
   "source": [
    "prompt2 = \"\"\" \n",
    "Transform Janis Rozentāls’ painting “No kapsētas” into a highly detailed, photorealistic scene.\n",
    "Preserve the original composition, characters, and atmosphere exactly as in the painting.\n",
    "Every figure, posture, gesture, and expression should remain intact,\n",
    "rendered as lifelike people with natural textures and realistic lighting.\n",
    "The clothing should appear historically accurate, with fine fabric detail and natural folds.\n",
    "The surrounding environment — cemetery setting, ground, trees, sky — must be recreated with natural colors,\n",
    "depth, and shadows, reflecting the somber and contemplative mood of the original work.\n",
    "The final result should feel like a real-world photograph taken at the moment depicted in the painting,\n",
    "while honoring the emotional and symbolic tone of Rozentāls’ art.\n",
    "\n",
    "Style settings:\n",
    "- Photorealistic reconstruction\n",
    "- High resolution and sharp detail\n",
    "- Subtle cinematic lighting, soft shadows\n",
    "- Respectful, somber mood preserved\n",
    "\"\"\""
   ]
  },
  {
   "cell_type": "code",
   "execution_count": 11,
   "metadata": {},
   "outputs": [],
   "source": [
    "response = client.models.generate_content(\n",
    "    model=\"gemini-2.5-flash-image-preview\",\n",
    "    contents=[prompt2, image1],\n",
    ")"
   ]
  },
  {
   "cell_type": "code",
   "execution_count": 16,
   "metadata": {},
   "outputs": [
    {
     "data": {
      "text/plain": [
       "Candidate(\n",
       "  finish_reason=<FinishReason.PROHIBITED_CONTENT: 'PROHIBITED_CONTENT'>\n",
       ")"
      ]
     },
     "execution_count": 16,
     "metadata": {},
     "output_type": "execute_result"
    }
   ],
   "source": [
    "response.candidates[0]"
   ]
  },
  {
   "cell_type": "code",
   "execution_count": 12,
   "metadata": {},
   "outputs": [
    {
     "ename": "AttributeError",
     "evalue": "'NoneType' object has no attribute 'parts'",
     "output_type": "error",
     "traceback": [
      "\u001b[31m---------------------------------------------------------------------------\u001b[39m",
      "\u001b[31mAttributeError\u001b[39m                            Traceback (most recent call last)",
      "\u001b[36mCell\u001b[39m\u001b[36m \u001b[39m\u001b[32mIn[12]\u001b[39m\u001b[32m, line 1\u001b[39m\n\u001b[32m----> \u001b[39m\u001b[32m1\u001b[39m \u001b[38;5;28;01mfor\u001b[39;00m part \u001b[38;5;129;01min\u001b[39;00m \u001b[43mresponse\u001b[49m\u001b[43m.\u001b[49m\u001b[43mcandidates\u001b[49m\u001b[43m[\u001b[49m\u001b[32;43m0\u001b[39;49m\u001b[43m]\u001b[49m\u001b[43m.\u001b[49m\u001b[43mcontent\u001b[49m\u001b[43m.\u001b[49m\u001b[43mparts\u001b[49m:\n\u001b[32m      2\u001b[39m     \u001b[38;5;28;01mif\u001b[39;00m part.text \u001b[38;5;129;01mis\u001b[39;00m \u001b[38;5;129;01mnot\u001b[39;00m \u001b[38;5;28;01mNone\u001b[39;00m:\n\u001b[32m      3\u001b[39m         \u001b[38;5;28mprint\u001b[39m(part.text)\n",
      "\u001b[31mAttributeError\u001b[39m: 'NoneType' object has no attribute 'parts'"
     ]
    }
   ],
   "source": [
    "for part in response.candidates[0].content.parts:\n",
    "    if part.text is not None:\n",
    "        print(part.text)\n",
    "    elif part.inline_data is not None:\n",
    "        image = Image.open(BytesIO(part.inline_data.data))\n",
    "        image.save(\"prompt2_Rozentals_No_kapsetas.png\")"
   ]
  },
  {
   "cell_type": "code",
   "execution_count": null,
   "metadata": {},
   "outputs": [],
   "source": [
    "# https://www.antonia.lv/lv/gleznieciba/dimiters-juris/seno-sapnu-bukete-11224/\n",
    "image2 = Image.open(\"juris-dimiters-1947_396_xl.jpg\")"
   ]
  },
  {
   "cell_type": "code",
   "execution_count": null,
   "metadata": {},
   "outputs": [],
   "source": [
    "# Version 1\n",
    "prompt3 = \"\"\" \n",
    "Transform this surreal still-life painting into a hyper-realistic photograph.\n",
    "The composition shows a vibrant bouquet of flowers placed inside a red Coca-Cola can instead of a vase.\n",
    "Preserve every detail: the bright and varied flowers (tulips, lilies, roses, carnations, and others)\n",
    "should look fresh and natural, with realistic textures, subtle imperfections,\n",
    "and natural reflections of light on petals and leaves.\n",
    "The Coca-Cola can must appear metallic, shiny, and true to life, with its logo clearly visible,\n",
    "casting a subtle shadow on the surface below.\n",
    "Keep the surreal elements intact — the cartoon-like bird face peeking from within the bouquet,\n",
    "the colorful ribbon-like shapes, and the green lightning bolt form — but render them in lifelike textures,\n",
    "as though they exist physically in the real world. The background should remain dark and minimal,\n",
    "enhancing the dramatic contrast of the vivid colors.\n",
    "The final result should look like a staged contemporary art photograph capturing this impossible but striking arrangement.\n",
    "\n",
    "Style settings:\n",
    "- Ultra-photorealism, studio photography quality\n",
    "- High dynamic range lighting, crisp shadows and highlights\n",
    "- Vivid yet natural color reproduction\n",
    "- Surreal but tangible, as if this arrangement truly exists in front of the camera\n",
    "\"\"\""
   ]
  },
  {
   "cell_type": "code",
   "execution_count": null,
   "metadata": {},
   "outputs": [],
   "source": [
    "# Version 2\n",
    "prompt3 = \"\"\" \n",
    "Transform this surreal still-life painting into a hyper-realistic photograph.\n",
    "Preserve every detail: the bright and varied flowers should look fresh and natural, with realistic textures,\n",
    "subtle imperfections, and natural reflections of light on petals and leaves.\n",
    "The Coca-Cola can must appear metallic, shiny, and true to life, with its logo clearly visible,\n",
    "casting a subtle shadow on the surface below.\n",
    "The final result should look like a staged contemporary art photograph capturing this impossible but striking arrangement.\n",
    "\n",
    "Style settings:\n",
    "- Ultra-photorealism, studio photography quality\n",
    "- High dynamic range lighting, crisp shadows and highlights\n",
    "- Vivid yet natural color reproduction\n",
    "- Surreal but tangible, as if this arrangement truly exists in front of the camera\n",
    "\"\"\""
   ]
  },
  {
   "cell_type": "code",
   "execution_count": 23,
   "metadata": {},
   "outputs": [],
   "source": [
    "response = client.models.generate_content(\n",
    "    model=\"gemini-2.5-flash-image-preview\",\n",
    "    contents=[prompt3, image2],\n",
    ")"
   ]
  },
  {
   "cell_type": "code",
   "execution_count": 24,
   "metadata": {},
   "outputs": [
    {
     "name": "stdout",
     "output_type": "stream",
     "text": [
      "Here's your hyper-realistic photograph of the surreal still life. \n",
      "\n"
     ]
    }
   ],
   "source": [
    "for part in response.candidates[0].content.parts:\n",
    "    if part.text is not None:\n",
    "        print(part.text)\n",
    "    elif part.inline_data is not None:\n",
    "        image = Image.open(BytesIO(part.inline_data.data))\n",
    "        image.save(\"prompt3_Dimiters_J_Seno-sapnu-bukete_2.png\")"
   ]
  },
  {
   "cell_type": "code",
   "execution_count": 34,
   "metadata": {},
   "outputs": [],
   "source": [
    "# https://lv.wikipedia.org/wiki/C%C4%93su_pils_aplenkums_%281577%29#/media/Att%C4%93ls:Cesis_Castle_2017-09-10.jpg\n",
    "image3 = Image.open(\"Cesis_Castle_2017-09-10.jpg\")\n",
    "\n",
    "# https://lv.wikipedia.org/wiki/C%C4%93su_pils#/media/Att%C4%93ls:CesuPils_2017-09-10.jpg\n",
    "image3_2 = Image.open('CesuPils_2017-09-10.jpg')\n",
    "\n",
    "# https://www.historia.lv/jaunumi/izveidota-cesu-pils-arheologisko-prieksmetu-datubaze\n",
    "image3_3 = Image.open('cesu_pils.jpg')"
   ]
  },
  {
   "cell_type": "code",
   "execution_count": null,
   "metadata": {},
   "outputs": [],
   "source": [
    "image3_4 = Image.open('prompt4_Cesis_Castle_2.png')\n",
    "image3_5 = Image.open('Generated Image September 07, 2025 - 12_39AM.jpeg') # Generated from Google AI Studio"
   ]
  },
  {
   "cell_type": "code",
   "execution_count": 5,
   "metadata": {},
   "outputs": [],
   "source": [
    "# Version 1\n",
    "prompt4 = \"\"\" \n",
    "Reconstruct Cēsis Castle (Latvia) in its full medieval glory,\n",
    "as if captured in a highly detailed, photorealistic aerial photograph.\n",
    "Preserve the current composition and perspective, but transform the ruined stone walls into complete,\n",
    "intact fortifications. The towers should be fully restored with conical red-tiled roofs,\n",
    "arrow slits, and defensive battlements. The central courtyard should appear bustling with medieval life:\n",
    "wooden structures, market stalls, soldiers in armor, horses, and townsfolk in period-accurate clothing.\n",
    "The castle walls must be tall, solid, and unbroken, with fresh stonework, wooden gates, and sturdy drawbridges.\n",
    "Surrounding greenery should remain lush, but with added signs of medieval landscaping — dirt roads, wooden carts,\n",
    "and farmland nearby. The overall atmosphere should reflect the 13th–15th century, when the castle stood as one of\n",
    "the strongest Livonian Order fortresses. The lighting should be natural daylight, emphasizing textures of stone,\n",
    "wood, and roof tiles, making the castle look alive and imposing, as if photographed today in its original, undamaged state.\n",
    "\n",
    "Style settings:\n",
    "- Ultra-photorealism, historical accuracy\n",
    "- Aerial view reconstruction\n",
    "- Vibrant natural colors, sharp details\n",
    "- Medieval atmosphere with lifelike people and surroundings\n",
    "\"\"\""
   ]
  },
  {
   "cell_type": "code",
   "execution_count": 37,
   "metadata": {},
   "outputs": [],
   "source": [
    "# Version 2\n",
    "prompt4 = \"\"\" \n",
    "**Context & intent (read this first):**\n",
    "Create a museum-grade, photorealistic **historical reconstruction** of **Cēsis Castle (Latvia)** as it appeared at its medieval peak (Livonian Order, 13th–15th c.).\n",
    "Use the provided **aerial reference photo** for camera angle, framing, and terrain.\n",
    "The goal is to show the castle **fully intact** — this is not an artistic ruin; it is an authoritative visualization for education and tourism.\n",
    "\n",
    "**Camera & composition:**\n",
    "- Keep the **same aerial/oblique viewpoint** as the reference.\n",
    "- 24–28 mm full-frame equivalent, slight forward tilt, high-altitude drone look.\n",
    "- Maintain identical cropping of courtyard, curtain walls, and surrounding town.\n",
    "\n",
    "**Step-by-step build (follow in order):**\n",
    "\n",
    "1. **Base geometry (no damage allowed)**\n",
    "- Replace every broken/eroded section with continuous, straight courses of masonry.\n",
    "- Zero visible rubble, gaps, cracks, missing stones, or jagged edges.\n",
    "- Parapets continuous around all walls.\n",
    "\n",
    "2. **Curtain walls & battlements**\n",
    "- Complete crenellations with evenly spaced merlons, walkways, and machicolations on key fronts.\n",
    "- Intact arrow slits and drain spouts; uniform limestone textures with subtle limewash.\n",
    "\n",
    "3. **Towers (both round towers restored)**\n",
    "- Perfect cylinders with smooth, uninterrupted stonework.\n",
    "- Conical clay-tile roofs (warm, weathered terracotta), tight, regular tiles; functional belfry/arrow slits; finished eaves with timber support brackets.\n",
    "\n",
    "4. **Gatehouse & access**\n",
    "- Robust gatehouse with portcullis and double wooden doors.\n",
    "- Add a timber bridge or firm stone ramp consistent with the terrain; no modern handrails.\n",
    "\n",
    "5. **Roofs & interiors visible from above**\n",
    "- Reconstruct missing rooflines over halls with steep gabled roofs (clay tile) and lead ridge capping.\n",
    "- Courtyard galleries with timber arcades, stairs, and galleries continuous and safe-looking.\n",
    "\n",
    "6. **Courtyard life (historical context)**\n",
    "- Light activity: a few soldiers in period mail/brigandine, artisans, pack horses, barrels and carts; subdued, authentic colors.\n",
    "- No crowding; keep the scene readable.\n",
    "\n",
    "7. **Surroundings**\n",
    "- Keep the trees and town layout, but remove/replace modern elements directly touching the castle (modern railings, signage, paved paths) with packed earth or timber features appropriate to the era.\n",
    "\n",
    "8. **Lighting & rendering**\n",
    "- Midday natural light, soft shadows, 8K photorealism, physically based materials, micro-surface detail (stone grain, mortar seams, tile edges).\n",
    "- Clean, crisp image with slight aerial haze for scale; no painterly brushstrokes.\n",
    "\n",
    "**Material & detail specificity (be hyper-specific):**\n",
    "\n",
    "- **Stone**: pale grey limestone blocks with lime mortar; light wear, **no structural damage**.\n",
    "- **Timber**: dark oak beams, joinery pegs visible; period-authentic carpentry.\n",
    "- **Metal**: wrought-iron portcullis lattice, hinges, and tie-bars with mild oxidation, **not broken**.\n",
    "- **Roof tiles**: small curved terracotta, tight alignment, weathered but intact.\n",
    "\n",
    "**Semantic negative prompts (hard constraints):**\n",
    "\n",
    "- **No ruins, no broken walls, no missing stones, no exposed rubble, no collapsed sections, no cracked battlements.**\n",
    "- **No modern objects**: tourists, metal safety rails, plastic signs, benches, scaffolding, asphalt paths, modern windows/doors/roofs.\n",
    "- **No fantasy elements**: dragons, banners with fictional symbols, unreal materials.\n",
    "- **No painterly/illustrative look**: avoid brush textures, stylization, over-saturated cinematic grading.\n",
    "\n",
    "**Output requirements:**\n",
    "\n",
    "- Deliver as a **single, photorealistic** image matching the reference framing.\n",
    "- The castle must read as **structurally complete** at a glance. If any ruin texture is detected, **replace with finished masonry and repeat battlement pattern** before finalizing.\n",
    "\"\"\""
   ]
  },
  {
   "cell_type": "code",
   "execution_count": null,
   "metadata": {},
   "outputs": [],
   "source": [
    "# response = client.models.generate_content(\n",
    "#     model=\"gemini-2.5-flash-image-preview\",\n",
    "#     contents=[prompt4, image3, image3_2, image3_3],\n",
    "# )"
   ]
  },
  {
   "cell_type": "code",
   "execution_count": 6,
   "metadata": {},
   "outputs": [],
   "source": [
    "response = client.models.generate_content(\n",
    "    model=\"gemini-2.5-flash-image-preview\",\n",
    "    contents=[prompt4, image3_5],\n",
    ")"
   ]
  },
  {
   "cell_type": "markdown",
   "metadata": {},
   "source": [
    "- prompt4_Cesis_Castle.png (`prompt4` version 1; input image: `image3`)\n",
    "- prompt4_Cesis_Castle_2.png (`prompt4` version 2; input image: `image3`)\n",
    "- prompt4_Cesis_Castle_3.png (`prompt4` version 1; input image: `image3_3`)\n",
    "- prompt4_Cesis_Castle_4.png (`prompt4` version 2; input images: `image3`, `image3_2` and `image3_3`)\n",
    "- prompt4_Cesis_Castle_5.png (`prompt4` version 1; input images: `image3`, `image3_2` and `image3_3`)\n",
    "- prompt4_Cesis_Castle_6.png (`prompt4` version 1; input image: `image3_4`)\n",
    "- prompt4_Cesis_Castle_7.png (`prompt4` version 1; input image: `image3_5` - generated from [Google AI Studio](https://aistudio.google.com/))"
   ]
  },
  {
   "cell_type": "code",
   "execution_count": 7,
   "metadata": {},
   "outputs": [
    {
     "name": "stdout",
     "output_type": "stream",
     "text": [
      "Here is Cēsis Castle, fully restored to its medieval glory! \n"
     ]
    }
   ],
   "source": [
    "for part in response.candidates[0].content.parts:\n",
    "    if part.text is not None:\n",
    "        print(part.text)\n",
    "    elif part.inline_data is not None:\n",
    "        image = Image.open(BytesIO(part.inline_data.data))\n",
    "        image.save(\"prompt4_Cesis_Castle_7.png\")"
   ]
  },
  {
   "cell_type": "markdown",
   "metadata": {},
   "source": [
    "### Photo restoration"
   ]
  },
  {
   "cell_type": "code",
   "execution_count": 10,
   "metadata": {},
   "outputs": [],
   "source": [
    "# https://www.lmic.lv/lv/raksti/ojars-vacietis-un-muzika-saruna-ar-ludmilu-azarovu\n",
    "image4_1 = Image.open('20200917__Vacietis.jpg')"
   ]
  },
  {
   "cell_type": "code",
   "execution_count": 11,
   "metadata": {},
   "outputs": [],
   "source": [
    "prompt5 = \"Restore and colorize this image\""
   ]
  },
  {
   "cell_type": "code",
   "execution_count": 12,
   "metadata": {},
   "outputs": [],
   "source": [
    "response = client.models.generate_content(\n",
    "    model=\"gemini-2.5-flash-image-preview\",\n",
    "    contents=[prompt5, image4_1])"
   ]
  },
  {
   "cell_type": "code",
   "execution_count": 13,
   "metadata": {},
   "outputs": [
    {
     "name": "stdout",
     "output_type": "stream",
     "text": [
      "Here is your restored and colorized image: \n"
     ]
    }
   ],
   "source": [
    "for part in response.candidates[0].content.parts:\n",
    "    if part.text is not None:\n",
    "        print(part.text)\n",
    "    elif part.inline_data is not None:\n",
    "        image = Image.open(BytesIO(part.inline_data.data))\n",
    "        image.save(\"prompt5_Ludmila-Azarova_Ojars-Vacietis.png\")"
   ]
  },
  {
   "cell_type": "markdown",
   "metadata": {},
   "source": [
    "### Multiple input images"
   ]
  },
  {
   "cell_type": "code",
   "execution_count": 24,
   "metadata": {},
   "outputs": [],
   "source": [
    "image5_1 = Image.open('cobblestone.png')\n",
    "image5_2 = Image.open('20240626_181838_resized.jpg')"
   ]
  },
  {
   "cell_type": "code",
   "execution_count": 28,
   "metadata": {},
   "outputs": [],
   "source": [
    "prompt5 = \"\"\" \n",
    "Transform the pavement in the base photo so that it is fully covered with the cobblestone texture from the reference image.\n",
    "\"\"\""
   ]
  },
  {
   "cell_type": "code",
   "execution_count": 16,
   "metadata": {},
   "outputs": [
    {
     "ename": "ClientError",
     "evalue": "429 RESOURCE_EXHAUSTED. {'error': {'code': 429, 'message': 'Resource has been exhausted (e.g. check quota).', 'status': 'RESOURCE_EXHAUSTED'}}",
     "output_type": "error",
     "traceback": [
      "\u001b[31m---------------------------------------------------------------------------\u001b[39m",
      "\u001b[31mClientError\u001b[39m                               Traceback (most recent call last)",
      "\u001b[36mCell\u001b[39m\u001b[36m \u001b[39m\u001b[32mIn[16]\u001b[39m\u001b[32m, line 1\u001b[39m\n\u001b[32m----> \u001b[39m\u001b[32m1\u001b[39m response = \u001b[43mclient\u001b[49m\u001b[43m.\u001b[49m\u001b[43mmodels\u001b[49m\u001b[43m.\u001b[49m\u001b[43mgenerate_content\u001b[49m\u001b[43m(\u001b[49m\n\u001b[32m      2\u001b[39m \u001b[43m    \u001b[49m\u001b[43mmodel\u001b[49m\u001b[43m=\u001b[49m\u001b[33;43m\"\u001b[39;49m\u001b[33;43mgemini-2.5-flash-image-preview\u001b[39;49m\u001b[33;43m\"\u001b[39;49m\u001b[43m,\u001b[49m\n\u001b[32m      3\u001b[39m \u001b[43m    \u001b[49m\u001b[43mcontents\u001b[49m\u001b[43m=\u001b[49m\u001b[43m[\u001b[49m\u001b[43mprompt5\u001b[49m\u001b[43m,\u001b[49m\u001b[43m \u001b[49m\u001b[43mimage5_1\u001b[49m\u001b[43m,\u001b[49m\u001b[43m \u001b[49m\u001b[43mimage5_2\u001b[49m\u001b[43m]\u001b[49m\u001b[43m)\u001b[49m\n",
      "\u001b[36mFile \u001b[39m\u001b[32mc:\\Users\\a.brutans\\OneDrive - Scandic Fusion\\Documents\\Veiktie_darbi\\2025\\202509_Flask_Pdf_to_Excel\\.venv3\\Lib\\site-packages\\google\\genai\\models.py:6447\u001b[39m, in \u001b[36mModels.generate_content\u001b[39m\u001b[34m(self, model, contents, config)\u001b[39m\n\u001b[32m   6445\u001b[39m \u001b[38;5;28;01mwhile\u001b[39;00m remaining_remote_calls_afc > \u001b[32m0\u001b[39m:\n\u001b[32m   6446\u001b[39m   i += \u001b[32m1\u001b[39m\n\u001b[32m-> \u001b[39m\u001b[32m6447\u001b[39m   response = \u001b[38;5;28;43mself\u001b[39;49m\u001b[43m.\u001b[49m\u001b[43m_generate_content\u001b[49m\u001b[43m(\u001b[49m\n\u001b[32m   6448\u001b[39m \u001b[43m      \u001b[49m\u001b[43mmodel\u001b[49m\u001b[43m=\u001b[49m\u001b[43mmodel\u001b[49m\u001b[43m,\u001b[49m\u001b[43m \u001b[49m\u001b[43mcontents\u001b[49m\u001b[43m=\u001b[49m\u001b[43mcontents\u001b[49m\u001b[43m,\u001b[49m\u001b[43m \u001b[49m\u001b[43mconfig\u001b[49m\u001b[43m=\u001b[49m\u001b[43mparsed_config\u001b[49m\n\u001b[32m   6449\u001b[39m \u001b[43m  \u001b[49m\u001b[43m)\u001b[49m\n\u001b[32m   6450\u001b[39m   logger.info(\u001b[33mf\u001b[39m\u001b[33m'\u001b[39m\u001b[33mAFC remote call \u001b[39m\u001b[38;5;132;01m{\u001b[39;00mi\u001b[38;5;132;01m}\u001b[39;00m\u001b[33m is done.\u001b[39m\u001b[33m'\u001b[39m)\n\u001b[32m   6451\u001b[39m   remaining_remote_calls_afc -= \u001b[32m1\u001b[39m\n",
      "\u001b[36mFile \u001b[39m\u001b[32mc:\\Users\\a.brutans\\OneDrive - Scandic Fusion\\Documents\\Veiktie_darbi\\2025\\202509_Flask_Pdf_to_Excel\\.venv3\\Lib\\site-packages\\google\\genai\\models.py:5259\u001b[39m, in \u001b[36mModels._generate_content\u001b[39m\u001b[34m(self, model, contents, config)\u001b[39m\n\u001b[32m   5256\u001b[39m request_dict = _common.convert_to_dict(request_dict)\n\u001b[32m   5257\u001b[39m request_dict = _common.encode_unserializable_types(request_dict)\n\u001b[32m-> \u001b[39m\u001b[32m5259\u001b[39m response = \u001b[38;5;28;43mself\u001b[39;49m\u001b[43m.\u001b[49m\u001b[43m_api_client\u001b[49m\u001b[43m.\u001b[49m\u001b[43mrequest\u001b[49m\u001b[43m(\u001b[49m\n\u001b[32m   5260\u001b[39m \u001b[43m    \u001b[49m\u001b[33;43m'\u001b[39;49m\u001b[33;43mpost\u001b[39;49m\u001b[33;43m'\u001b[39;49m\u001b[43m,\u001b[49m\u001b[43m \u001b[49m\u001b[43mpath\u001b[49m\u001b[43m,\u001b[49m\u001b[43m \u001b[49m\u001b[43mrequest_dict\u001b[49m\u001b[43m,\u001b[49m\u001b[43m \u001b[49m\u001b[43mhttp_options\u001b[49m\n\u001b[32m   5261\u001b[39m \u001b[43m\u001b[49m\u001b[43m)\u001b[49m\n\u001b[32m   5263\u001b[39m \u001b[38;5;28;01mif\u001b[39;00m config \u001b[38;5;129;01mis\u001b[39;00m \u001b[38;5;129;01mnot\u001b[39;00m \u001b[38;5;28;01mNone\u001b[39;00m \u001b[38;5;129;01mand\u001b[39;00m \u001b[38;5;28mgetattr\u001b[39m(\n\u001b[32m   5264\u001b[39m     config, \u001b[33m'\u001b[39m\u001b[33mshould_return_http_response\u001b[39m\u001b[33m'\u001b[39m, \u001b[38;5;28;01mNone\u001b[39;00m\n\u001b[32m   5265\u001b[39m ):\n\u001b[32m   5266\u001b[39m   return_value = types.GenerateContentResponse(sdk_http_response=response)\n",
      "\u001b[36mFile \u001b[39m\u001b[32mc:\\Users\\a.brutans\\OneDrive - Scandic Fusion\\Documents\\Veiktie_darbi\\2025\\202509_Flask_Pdf_to_Excel\\.venv3\\Lib\\site-packages\\google\\genai\\_api_client.py:1289\u001b[39m, in \u001b[36mBaseApiClient.request\u001b[39m\u001b[34m(self, http_method, path, request_dict, http_options)\u001b[39m\n\u001b[32m   1279\u001b[39m \u001b[38;5;28;01mdef\u001b[39;00m\u001b[38;5;250m \u001b[39m\u001b[34mrequest\u001b[39m(\n\u001b[32m   1280\u001b[39m     \u001b[38;5;28mself\u001b[39m,\n\u001b[32m   1281\u001b[39m     http_method: \u001b[38;5;28mstr\u001b[39m,\n\u001b[32m   (...)\u001b[39m\u001b[32m   1284\u001b[39m     http_options: Optional[HttpOptionsOrDict] = \u001b[38;5;28;01mNone\u001b[39;00m,\n\u001b[32m   1285\u001b[39m ) -> SdkHttpResponse:\n\u001b[32m   1286\u001b[39m   http_request = \u001b[38;5;28mself\u001b[39m._build_request(\n\u001b[32m   1287\u001b[39m       http_method, path, request_dict, http_options\n\u001b[32m   1288\u001b[39m   )\n\u001b[32m-> \u001b[39m\u001b[32m1289\u001b[39m   response = \u001b[38;5;28;43mself\u001b[39;49m\u001b[43m.\u001b[49m\u001b[43m_request\u001b[49m\u001b[43m(\u001b[49m\u001b[43mhttp_request\u001b[49m\u001b[43m,\u001b[49m\u001b[43m \u001b[49m\u001b[43mhttp_options\u001b[49m\u001b[43m,\u001b[49m\u001b[43m \u001b[49m\u001b[43mstream\u001b[49m\u001b[43m=\u001b[49m\u001b[38;5;28;43;01mFalse\u001b[39;49;00m\u001b[43m)\u001b[49m\n\u001b[32m   1290\u001b[39m   response_body = (\n\u001b[32m   1291\u001b[39m       response.response_stream[\u001b[32m0\u001b[39m] \u001b[38;5;28;01mif\u001b[39;00m response.response_stream \u001b[38;5;28;01melse\u001b[39;00m \u001b[33m'\u001b[39m\u001b[33m'\u001b[39m\n\u001b[32m   1292\u001b[39m   )\n\u001b[32m   1293\u001b[39m   \u001b[38;5;28;01mreturn\u001b[39;00m SdkHttpResponse(headers=response.headers, body=response_body)\n",
      "\u001b[36mFile \u001b[39m\u001b[32mc:\\Users\\a.brutans\\OneDrive - Scandic Fusion\\Documents\\Veiktie_darbi\\2025\\202509_Flask_Pdf_to_Excel\\.venv3\\Lib\\site-packages\\google\\genai\\_api_client.py:1109\u001b[39m, in \u001b[36mBaseApiClient._request\u001b[39m\u001b[34m(self, http_request, http_options, stream)\u001b[39m\n\u001b[32m   1106\u001b[39m     retry = tenacity.Retrying(**retry_kwargs)\n\u001b[32m   1107\u001b[39m     \u001b[38;5;28;01mreturn\u001b[39;00m retry(\u001b[38;5;28mself\u001b[39m._request_once, http_request, stream)  \u001b[38;5;66;03m# type: ignore[no-any-return]\u001b[39;00m\n\u001b[32m-> \u001b[39m\u001b[32m1109\u001b[39m \u001b[38;5;28;01mreturn\u001b[39;00m \u001b[38;5;28;43mself\u001b[39;49m\u001b[43m.\u001b[49m\u001b[43m_retry\u001b[49m\u001b[43m(\u001b[49m\u001b[38;5;28;43mself\u001b[39;49m\u001b[43m.\u001b[49m\u001b[43m_request_once\u001b[49m\u001b[43m,\u001b[49m\u001b[43m \u001b[49m\u001b[43mhttp_request\u001b[49m\u001b[43m,\u001b[49m\u001b[43m \u001b[49m\u001b[43mstream\u001b[49m\u001b[43m)\u001b[49m\n",
      "\u001b[36mFile \u001b[39m\u001b[32mc:\\Users\\a.brutans\\OneDrive - Scandic Fusion\\Documents\\Veiktie_darbi\\2025\\202509_Flask_Pdf_to_Excel\\.venv3\\Lib\\site-packages\\tenacity\\__init__.py:477\u001b[39m, in \u001b[36mRetrying.__call__\u001b[39m\u001b[34m(self, fn, *args, **kwargs)\u001b[39m\n\u001b[32m    475\u001b[39m retry_state = RetryCallState(retry_object=\u001b[38;5;28mself\u001b[39m, fn=fn, args=args, kwargs=kwargs)\n\u001b[32m    476\u001b[39m \u001b[38;5;28;01mwhile\u001b[39;00m \u001b[38;5;28;01mTrue\u001b[39;00m:\n\u001b[32m--> \u001b[39m\u001b[32m477\u001b[39m     do = \u001b[38;5;28;43mself\u001b[39;49m\u001b[43m.\u001b[49m\u001b[43miter\u001b[49m\u001b[43m(\u001b[49m\u001b[43mretry_state\u001b[49m\u001b[43m=\u001b[49m\u001b[43mretry_state\u001b[49m\u001b[43m)\u001b[49m\n\u001b[32m    478\u001b[39m     \u001b[38;5;28;01mif\u001b[39;00m \u001b[38;5;28misinstance\u001b[39m(do, DoAttempt):\n\u001b[32m    479\u001b[39m         \u001b[38;5;28;01mtry\u001b[39;00m:\n",
      "\u001b[36mFile \u001b[39m\u001b[32mc:\\Users\\a.brutans\\OneDrive - Scandic Fusion\\Documents\\Veiktie_darbi\\2025\\202509_Flask_Pdf_to_Excel\\.venv3\\Lib\\site-packages\\tenacity\\__init__.py:378\u001b[39m, in \u001b[36mBaseRetrying.iter\u001b[39m\u001b[34m(self, retry_state)\u001b[39m\n\u001b[32m    376\u001b[39m result = \u001b[38;5;28;01mNone\u001b[39;00m\n\u001b[32m    377\u001b[39m \u001b[38;5;28;01mfor\u001b[39;00m action \u001b[38;5;129;01min\u001b[39;00m \u001b[38;5;28mself\u001b[39m.iter_state.actions:\n\u001b[32m--> \u001b[39m\u001b[32m378\u001b[39m     result = \u001b[43maction\u001b[49m\u001b[43m(\u001b[49m\u001b[43mretry_state\u001b[49m\u001b[43m)\u001b[49m\n\u001b[32m    379\u001b[39m \u001b[38;5;28;01mreturn\u001b[39;00m result\n",
      "\u001b[36mFile \u001b[39m\u001b[32mc:\\Users\\a.brutans\\OneDrive - Scandic Fusion\\Documents\\Veiktie_darbi\\2025\\202509_Flask_Pdf_to_Excel\\.venv3\\Lib\\site-packages\\tenacity\\__init__.py:420\u001b[39m, in \u001b[36mBaseRetrying._post_stop_check_actions.<locals>.exc_check\u001b[39m\u001b[34m(rs)\u001b[39m\n\u001b[32m    418\u001b[39m retry_exc = \u001b[38;5;28mself\u001b[39m.retry_error_cls(fut)\n\u001b[32m    419\u001b[39m \u001b[38;5;28;01mif\u001b[39;00m \u001b[38;5;28mself\u001b[39m.reraise:\n\u001b[32m--> \u001b[39m\u001b[32m420\u001b[39m     \u001b[38;5;28;01mraise\u001b[39;00m \u001b[43mretry_exc\u001b[49m\u001b[43m.\u001b[49m\u001b[43mreraise\u001b[49m\u001b[43m(\u001b[49m\u001b[43m)\u001b[49m\n\u001b[32m    421\u001b[39m \u001b[38;5;28;01mraise\u001b[39;00m retry_exc \u001b[38;5;28;01mfrom\u001b[39;00m\u001b[38;5;250m \u001b[39m\u001b[34;01mfut\u001b[39;00m\u001b[34;01m.\u001b[39;00m\u001b[34;01mexception\u001b[39;00m()\n",
      "\u001b[36mFile \u001b[39m\u001b[32mc:\\Users\\a.brutans\\OneDrive - Scandic Fusion\\Documents\\Veiktie_darbi\\2025\\202509_Flask_Pdf_to_Excel\\.venv3\\Lib\\site-packages\\tenacity\\__init__.py:187\u001b[39m, in \u001b[36mRetryError.reraise\u001b[39m\u001b[34m(self)\u001b[39m\n\u001b[32m    185\u001b[39m \u001b[38;5;28;01mdef\u001b[39;00m\u001b[38;5;250m \u001b[39m\u001b[34mreraise\u001b[39m(\u001b[38;5;28mself\u001b[39m) -> t.NoReturn:\n\u001b[32m    186\u001b[39m     \u001b[38;5;28;01mif\u001b[39;00m \u001b[38;5;28mself\u001b[39m.last_attempt.failed:\n\u001b[32m--> \u001b[39m\u001b[32m187\u001b[39m         \u001b[38;5;28;01mraise\u001b[39;00m \u001b[38;5;28;43mself\u001b[39;49m\u001b[43m.\u001b[49m\u001b[43mlast_attempt\u001b[49m\u001b[43m.\u001b[49m\u001b[43mresult\u001b[49m\u001b[43m(\u001b[49m\u001b[43m)\u001b[49m\n\u001b[32m    188\u001b[39m     \u001b[38;5;28;01mraise\u001b[39;00m \u001b[38;5;28mself\u001b[39m\n",
      "\u001b[36mFile \u001b[39m\u001b[32m~\\AppData\\Local\\Programs\\Python\\Python313\\Lib\\concurrent\\futures\\_base.py:449\u001b[39m, in \u001b[36mFuture.result\u001b[39m\u001b[34m(self, timeout)\u001b[39m\n\u001b[32m    447\u001b[39m     \u001b[38;5;28;01mraise\u001b[39;00m CancelledError()\n\u001b[32m    448\u001b[39m \u001b[38;5;28;01melif\u001b[39;00m \u001b[38;5;28mself\u001b[39m._state == FINISHED:\n\u001b[32m--> \u001b[39m\u001b[32m449\u001b[39m     \u001b[38;5;28;01mreturn\u001b[39;00m \u001b[38;5;28;43mself\u001b[39;49m\u001b[43m.\u001b[49m\u001b[43m__get_result\u001b[49m\u001b[43m(\u001b[49m\u001b[43m)\u001b[49m\n\u001b[32m    451\u001b[39m \u001b[38;5;28mself\u001b[39m._condition.wait(timeout)\n\u001b[32m    453\u001b[39m \u001b[38;5;28;01mif\u001b[39;00m \u001b[38;5;28mself\u001b[39m._state \u001b[38;5;129;01min\u001b[39;00m [CANCELLED, CANCELLED_AND_NOTIFIED]:\n",
      "\u001b[36mFile \u001b[39m\u001b[32m~\\AppData\\Local\\Programs\\Python\\Python313\\Lib\\concurrent\\futures\\_base.py:401\u001b[39m, in \u001b[36mFuture.__get_result\u001b[39m\u001b[34m(self)\u001b[39m\n\u001b[32m    399\u001b[39m \u001b[38;5;28;01mif\u001b[39;00m \u001b[38;5;28mself\u001b[39m._exception:\n\u001b[32m    400\u001b[39m     \u001b[38;5;28;01mtry\u001b[39;00m:\n\u001b[32m--> \u001b[39m\u001b[32m401\u001b[39m         \u001b[38;5;28;01mraise\u001b[39;00m \u001b[38;5;28mself\u001b[39m._exception\n\u001b[32m    402\u001b[39m     \u001b[38;5;28;01mfinally\u001b[39;00m:\n\u001b[32m    403\u001b[39m         \u001b[38;5;66;03m# Break a reference cycle with the exception in self._exception\u001b[39;00m\n\u001b[32m    404\u001b[39m         \u001b[38;5;28mself\u001b[39m = \u001b[38;5;28;01mNone\u001b[39;00m\n",
      "\u001b[36mFile \u001b[39m\u001b[32mc:\\Users\\a.brutans\\OneDrive - Scandic Fusion\\Documents\\Veiktie_darbi\\2025\\202509_Flask_Pdf_to_Excel\\.venv3\\Lib\\site-packages\\tenacity\\__init__.py:480\u001b[39m, in \u001b[36mRetrying.__call__\u001b[39m\u001b[34m(self, fn, *args, **kwargs)\u001b[39m\n\u001b[32m    478\u001b[39m \u001b[38;5;28;01mif\u001b[39;00m \u001b[38;5;28misinstance\u001b[39m(do, DoAttempt):\n\u001b[32m    479\u001b[39m     \u001b[38;5;28;01mtry\u001b[39;00m:\n\u001b[32m--> \u001b[39m\u001b[32m480\u001b[39m         result = \u001b[43mfn\u001b[49m\u001b[43m(\u001b[49m\u001b[43m*\u001b[49m\u001b[43margs\u001b[49m\u001b[43m,\u001b[49m\u001b[43m \u001b[49m\u001b[43m*\u001b[49m\u001b[43m*\u001b[49m\u001b[43mkwargs\u001b[49m\u001b[43m)\u001b[49m\n\u001b[32m    481\u001b[39m     \u001b[38;5;28;01mexcept\u001b[39;00m \u001b[38;5;167;01mBaseException\u001b[39;00m:  \u001b[38;5;66;03m# noqa: B902\u001b[39;00m\n\u001b[32m    482\u001b[39m         retry_state.set_exception(sys.exc_info())  \u001b[38;5;66;03m# type: ignore[arg-type]\u001b[39;00m\n",
      "\u001b[36mFile \u001b[39m\u001b[32mc:\\Users\\a.brutans\\OneDrive - Scandic Fusion\\Documents\\Veiktie_darbi\\2025\\202509_Flask_Pdf_to_Excel\\.venv3\\Lib\\site-packages\\google\\genai\\_api_client.py:1086\u001b[39m, in \u001b[36mBaseApiClient._request_once\u001b[39m\u001b[34m(self, http_request, stream)\u001b[39m\n\u001b[32m   1078\u001b[39m \u001b[38;5;28;01melse\u001b[39;00m:\n\u001b[32m   1079\u001b[39m   response = \u001b[38;5;28mself\u001b[39m._httpx_client.request(\n\u001b[32m   1080\u001b[39m       method=http_request.method,\n\u001b[32m   1081\u001b[39m       url=http_request.url,\n\u001b[32m   (...)\u001b[39m\u001b[32m   1084\u001b[39m       timeout=http_request.timeout,\n\u001b[32m   1085\u001b[39m   )\n\u001b[32m-> \u001b[39m\u001b[32m1086\u001b[39m   \u001b[43merrors\u001b[49m\u001b[43m.\u001b[49m\u001b[43mAPIError\u001b[49m\u001b[43m.\u001b[49m\u001b[43mraise_for_response\u001b[49m\u001b[43m(\u001b[49m\u001b[43mresponse\u001b[49m\u001b[43m)\u001b[49m\n\u001b[32m   1087\u001b[39m   \u001b[38;5;28;01mreturn\u001b[39;00m HttpResponse(\n\u001b[32m   1088\u001b[39m       response.headers, response \u001b[38;5;28;01mif\u001b[39;00m stream \u001b[38;5;28;01melse\u001b[39;00m [response.text]\n\u001b[32m   1089\u001b[39m   )\n",
      "\u001b[36mFile \u001b[39m\u001b[32mc:\\Users\\a.brutans\\OneDrive - Scandic Fusion\\Documents\\Veiktie_darbi\\2025\\202509_Flask_Pdf_to_Excel\\.venv3\\Lib\\site-packages\\google\\genai\\errors.py:105\u001b[39m, in \u001b[36mAPIError.raise_for_response\u001b[39m\u001b[34m(cls, response)\u001b[39m\n\u001b[32m    103\u001b[39m status_code = response.status_code\n\u001b[32m    104\u001b[39m \u001b[38;5;28;01mif\u001b[39;00m \u001b[32m400\u001b[39m <= status_code < \u001b[32m500\u001b[39m:\n\u001b[32m--> \u001b[39m\u001b[32m105\u001b[39m   \u001b[38;5;28;01mraise\u001b[39;00m ClientError(status_code, response_json, response)\n\u001b[32m    106\u001b[39m \u001b[38;5;28;01melif\u001b[39;00m \u001b[32m500\u001b[39m <= status_code < \u001b[32m600\u001b[39m:\n\u001b[32m    107\u001b[39m   \u001b[38;5;28;01mraise\u001b[39;00m ServerError(status_code, response_json, response)\n",
      "\u001b[31mClientError\u001b[39m: 429 RESOURCE_EXHAUSTED. {'error': {'code': 429, 'message': 'Resource has been exhausted (e.g. check quota).', 'status': 'RESOURCE_EXHAUSTED'}}"
     ]
    }
   ],
   "source": [
    "response = client.models.generate_content(\n",
    "    model=\"gemini-2.5-flash-image-preview\",\n",
    "    contents=[prompt5, image5_1, image5_2])"
   ]
  },
  {
   "cell_type": "markdown",
   "metadata": {},
   "source": [
    "Error codes: https://ai.google.dev/gemini-api/docs/troubleshooting#error-codes"
   ]
  },
  {
   "cell_type": "code",
   "execution_count": 29,
   "metadata": {},
   "outputs": [],
   "source": [
    "response = client.models.generate_content(\n",
    "    model=\"gemini-2.5-flash-image-preview\",\n",
    "    contents=[prompt5, image5_2, image5_1])"
   ]
  },
  {
   "cell_type": "code",
   "execution_count": 30,
   "metadata": {},
   "outputs": [],
   "source": [
    "for part in response.candidates[0].content.parts:\n",
    "    if part.text is not None:\n",
    "        print(part.text)\n",
    "    elif part.inline_data is not None:\n",
    "        image = Image.open(BytesIO(part.inline_data.data))\n",
    "        image.save(\"prompt5_cobblestone_3.png\")"
   ]
  },
  {
   "cell_type": "code",
   "execution_count": 31,
   "metadata": {},
   "outputs": [],
   "source": [
    "image6_1 = Image.open('can.png')\n",
    "image6_2 = Image.open('20241025_165929_resized.jpg')"
   ]
  },
  {
   "cell_type": "code",
   "execution_count": 32,
   "metadata": {},
   "outputs": [],
   "source": [
    "prompt6 = \"\"\" \n",
    "Replace the glass of beer with the can of beer from the reference image. \n",
    "\"\"\""
   ]
  },
  {
   "cell_type": "code",
   "execution_count": 33,
   "metadata": {},
   "outputs": [],
   "source": [
    "response = client.models.generate_content(\n",
    "    model=\"gemini-2.5-flash-image-preview\",\n",
    "    contents=[prompt6, image6_2, image6_1])"
   ]
  },
  {
   "cell_type": "code",
   "execution_count": 34,
   "metadata": {},
   "outputs": [],
   "source": [
    "for part in response.candidates[0].content.parts:\n",
    "    if part.text is not None:\n",
    "        print(part.text)\n",
    "    elif part.inline_data is not None:\n",
    "        image = Image.open(BytesIO(part.inline_data.data))\n",
    "        image.save(\"prompt6_beer_change.png\")"
   ]
  },
  {
   "cell_type": "markdown",
   "metadata": {},
   "source": [
    "Use generated output image to generate different one:"
   ]
  },
  {
   "cell_type": "code",
   "execution_count": 35,
   "metadata": {},
   "outputs": [],
   "source": [
    "image7_1 = Image.open('prompt6_beer_change.png')"
   ]
  },
  {
   "cell_type": "code",
   "execution_count": 36,
   "metadata": {},
   "outputs": [],
   "source": [
    "prompt7 = \"\"\" \n",
    "Add a beautiful woman sitting across from me and drinking the same beer, but from a glass (the can stands next to the glass).\n",
    "My hand holding the can is still visible. \n",
    "\"\"\""
   ]
  },
  {
   "cell_type": "code",
   "execution_count": 37,
   "metadata": {},
   "outputs": [],
   "source": [
    "response = client.models.generate_content(\n",
    "    model=\"gemini-2.5-flash-image-preview\",\n",
    "    contents=[prompt7, image7_1])"
   ]
  },
  {
   "cell_type": "code",
   "execution_count": 38,
   "metadata": {},
   "outputs": [],
   "source": [
    "for part in response.candidates[0].content.parts:\n",
    "    if part.text is not None:\n",
    "        print(part.text)\n",
    "    elif part.inline_data is not None:\n",
    "        image = Image.open(BytesIO(part.inline_data.data))\n",
    "        image.save(\"prompt7_beer_and_woman.png\")"
   ]
  },
  {
   "cell_type": "markdown",
   "metadata": {},
   "source": [
    "## Versions"
   ]
  },
  {
   "cell_type": "code",
   "execution_count": 2,
   "metadata": {},
   "outputs": [
    {
     "data": {
      "text/markdown": [
       "Python version: 3.13.3 (tags/v3.13.3:6280bb5, Apr  8 2025, 14:47:33) [MSC v.1943 64 bit (AMD64)]\n",
       "\n",
       "[google-genai](https://pypi.org/project/google-genai/) version: 1.33.0\n",
       "\n",
       "[Pillow](https://pypi.org/project/Pillow/) version: 11.3.0\n",
       "\n",
       "[python-dotenv](https://pypi.org/project/python-dotenv/) version: 1.1.1\n",
       "\n"
      ],
      "text/plain": [
       "<IPython.core.display.Markdown object>"
      ]
     },
     "metadata": {},
     "output_type": "display_data"
    }
   ],
   "source": [
    "from importlib.metadata import version\n",
    "from IPython.display import Markdown, display # pip install ipython\n",
    "import sys\n",
    "\n",
    "packages = ['google-genai', 'Pillow', 'python-dotenv']\n",
    "\n",
    "text = f\"Python version: {sys.version}\\n\\n\"\n",
    "for i in packages:\n",
    "    text += f\"[{i}](https://pypi.org/project/{i}/) version: {version(i)}\\n\\n\"\n",
    "display(Markdown(text))"
   ]
  }
 ],
 "metadata": {
  "kernelspec": {
   "display_name": ".venv3",
   "language": "python",
   "name": "python3"
  },
  "language_info": {
   "codemirror_mode": {
    "name": "ipython",
    "version": 3
   },
   "file_extension": ".py",
   "mimetype": "text/x-python",
   "name": "python",
   "nbconvert_exporter": "python",
   "pygments_lexer": "ipython3",
   "version": "3.13.3"
  }
 },
 "nbformat": 4,
 "nbformat_minor": 2
}
