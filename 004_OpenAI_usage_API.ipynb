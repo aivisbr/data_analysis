{
 "cells": [
  {
   "cell_type": "markdown",
   "metadata": {},
   "source": [
    "# OpenAI model usage (API)\n",
    "- https://x.com/OpenAIDevs/status/1864369714925064606\n",
    "- Activity: https://platform.openai.com/docs/api-reference/usage/completions\n",
    "- Costs: https://platform.openai.com/docs/api-reference/usage/costs"
   ]
  },
  {
   "cell_type": "code",
   "execution_count": 1,
   "metadata": {},
   "outputs": [],
   "source": [
    "import os\n",
    "import requests\n",
    "from datetime import datetime"
   ]
  },
  {
   "cell_type": "code",
   "execution_count": 2,
   "metadata": {},
   "outputs": [],
   "source": [
    "# Function to convert 'YYYY-MM-DD HH24:MI:SS' to Unix time\n",
    "def datetime_to_unix(datetime_str):\n",
    "    dt = datetime.strptime(datetime_str, \"%Y-%m-%d %H:%M:%S\")\n",
    "    return int(dt.timestamp())"
   ]
  },
  {
   "cell_type": "code",
   "execution_count": 3,
   "metadata": {},
   "outputs": [],
   "source": [
    "# https://platform.openai.com/settings/organization/admin-keys\n",
    "OPENAI_ADMIN_KEY = os.environ['OPENAI_ADMIN_KEY']"
   ]
  },
  {
   "cell_type": "code",
   "execution_count": 7,
   "metadata": {},
   "outputs": [],
   "source": [
    "# Example datetime in 'YYYY-MM-DD HH24:MI:SS' format\n",
    "datetime_str_start = \"2025-01-01 00:00:00\"  # Replace with your desired datetime\n",
    "datetime_str_end = \"2025-01-05 00:00:00\"  # Replace with your desired datetime\n",
    "\n",
    "# Convert to Unix time\n",
    "start_time_unix = datetime_to_unix(datetime_str_start)\n",
    "end_time_unix = datetime_to_unix(datetime_str_end)"
   ]
  },
  {
   "cell_type": "code",
   "execution_count": 20,
   "metadata": {},
   "outputs": [],
   "source": [
    "# URLs\n",
    "url = {'completions': 'https://api.openai.com/v1/organization/usage/completions',\n",
    "       'embeddings': 'https://api.openai.com/v1/organization/usage/embeddings',\n",
    "       'moderations': 'https://api.openai.com/v1/organization/usage/moderations',\n",
    "       'images': 'https://api.openai.com/v1/organization/usage/images',\n",
    "       'audio_speeches': 'https://api.openai.com/v1/organization/usage/audio_speeches',\n",
    "       'audio_transcriptions': 'https://api.openai.com/v1/organization/usage/audio_transcriptions',\n",
    "       'vector_stores': 'https://api.openai.com/v1/organization/usage/vector_stores',\n",
    "       'code_interpreter_sessions': 'https://api.openai.com/v1/organization/usage/code_interpreter_sessions',\n",
    "       'costs': 'https://api.openai.com/v1/organization/costs'}"
   ]
  },
  {
   "cell_type": "markdown",
   "metadata": {},
   "source": [
    "Completions: activity"
   ]
  },
  {
   "cell_type": "code",
   "execution_count": 12,
   "metadata": {},
   "outputs": [
    {
     "name": "stdout",
     "output_type": "stream",
     "text": [
      "Request sent with start_time: 1735682400\n",
      "200\n",
      "{'object': 'page', 'data': [{'object': 'bucket', 'start_time': 1735682400, 'end_time': 1735689600, 'results': []}, {'object': 'bucket', 'start_time': 1735689600, 'end_time': 1735776000, 'results': []}, {'object': 'bucket', 'start_time': 1735776000, 'end_time': 1735862400, 'results': [{'object': 'organization.usage.completions.result', 'input_tokens': 440, 'output_tokens': 117, 'num_model_requests': 1, 'project_id': None, 'user_id': None, 'api_key_id': None, 'model': None, 'batch': None, 'service_tier': None, 'input_cached_tokens': 0, 'input_audio_tokens': 0, 'output_audio_tokens': 0}]}, {'object': 'bucket', 'start_time': 1735862400, 'end_time': 1735948800, 'results': [{'object': 'organization.usage.completions.result', 'input_tokens': 8086, 'output_tokens': 1047, 'num_model_requests': 8, 'project_id': None, 'user_id': None, 'api_key_id': None, 'model': None, 'batch': None, 'service_tier': None, 'input_cached_tokens': 0, 'input_audio_tokens': 0, 'output_audio_tokens': 0}]}, {'object': 'bucket', 'start_time': 1735948800, 'end_time': 1736028000, 'results': []}], 'has_more': False, 'next_page': None}\n"
     ]
    }
   ],
   "source": [
    "# API request setup\n",
    "headers = {\n",
    "    \"Authorization\": f\"Bearer {OPENAI_ADMIN_KEY}\",\n",
    "    \"Content-Type\": \"application/json\"\n",
    "}\n",
    "params = {\n",
    "    \"start_time\": start_time_unix,\n",
    "    \"end_time\": end_time_unix,\n",
    "    \"limit\": 31 # default: 7, max: 31 if bucket_width=1d (default)\n",
    "}\n",
    "\n",
    "# Make the request\n",
    "response = requests.get(url['completions'], headers=headers, params=params)\n",
    "\n",
    "# Print or process the response\n",
    "print(f\"Request sent with start_time: {start_time_unix}\")\n",
    "print(response.status_code)\n",
    "print(response.json())\n"
   ]
  },
  {
   "cell_type": "markdown",
   "metadata": {},
   "source": [
    "Costs"
   ]
  },
  {
   "cell_type": "code",
   "execution_count": 21,
   "metadata": {},
   "outputs": [
    {
     "name": "stdout",
     "output_type": "stream",
     "text": [
      "Request sent with start_time: 1735682400\n",
      "200\n",
      "{'object': 'page', 'has_more': False, 'next_page': None, 'data': [{'object': 'bucket', 'start_time': 1735603200, 'end_time': 1735689600, 'results': []}, {'object': 'bucket', 'start_time': 1735689600, 'end_time': 1735776000, 'results': []}, {'object': 'bucket', 'start_time': 1735776000, 'end_time': 1735862400, 'results': [{'object': 'organization.costs.result', 'amount': {'value': 0.00227, 'currency': 'usd'}, 'line_item': None, 'project_id': None}]}, {'object': 'bucket', 'start_time': 1735862400, 'end_time': 1735948800, 'results': [{'object': 'organization.costs.result', 'amount': {'value': 0.030685000000000004, 'currency': 'usd'}, 'line_item': None, 'project_id': None}]}]}\n"
     ]
    }
   ],
   "source": [
    "# API request setup\n",
    "headers = {\n",
    "    \"Authorization\": f\"Bearer {OPENAI_ADMIN_KEY}\",\n",
    "    \"Content-Type\": \"application/json\"\n",
    "}\n",
    "params = {\n",
    "    \"start_time\": start_time_unix,\n",
    "    \"end_time\": end_time_unix,\n",
    "    \"limit\": 31 # Limit can range between 1 and 180\n",
    "}\n",
    "\n",
    "# Make the request\n",
    "response = requests.get(url['costs'], headers=headers, params=params)\n",
    "\n",
    "# Print or process the response\n",
    "print(f\"Request sent with start_time: {start_time_unix}\")\n",
    "print(response.status_code)\n",
    "print(response.json())\n"
   ]
  }
 ],
 "metadata": {
  "kernelspec": {
   "display_name": "deepparse_env",
   "language": "python",
   "name": "python3"
  },
  "language_info": {
   "codemirror_mode": {
    "name": "ipython",
    "version": 3
   },
   "file_extension": ".py",
   "mimetype": "text/x-python",
   "name": "python",
   "nbconvert_exporter": "python",
   "pygments_lexer": "ipython3",
   "version": "3.10.2"
  }
 },
 "nbformat": 4,
 "nbformat_minor": 2
}
