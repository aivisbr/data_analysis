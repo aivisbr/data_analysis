{
 "cells": [
  {
   "cell_type": "markdown",
   "metadata": {},
   "source": [
    "# Claude - Visual PDF\n",
    "https://docs.anthropic.com/en/docs/build-with-claude/pdf-support#pdf-support-with-prompt-caching\\\n",
    "https://github.com/anthropics/anthropic-cookbook/blob/main/multimodal/reading_charts_graphs_powerpoints.ipynb"
   ]
  },
  {
   "cell_type": "code",
   "execution_count": null,
   "metadata": {},
   "outputs": [],
   "source": [
    "import anthropic # pip install anthropic\n",
    "import base64\n",
    "#import httpx\n",
    "import keyring # pip install keyring"
   ]
  },
  {
   "cell_type": "code",
   "execution_count": null,
   "metadata": {},
   "outputs": [],
   "source": [
    "# pdf_url is Anthropic's example: https://docs.anthropic.com/en/docs/build-with-claude/pdf-support\n",
    "# First fetch the file\n",
    "#pdf_url = \"https://assets.anthropic.com/m/1cd9d098ac3e6467/original/Claude-3-Model-Card-October-Addendum.pdf\"\n",
    "#pdf_data = base64.standard_b64encode(httpx.get(pdf_url).content).decode(\"utf-8\")\n",
    "\n",
    "# Source: https://www.researchgate.net/publication/285000696_Organizational_socialization_The_effective_onboarding_of_new_employees\n",
    "pdf_filepath = \"BauerErdogan_OrgSocialization_APA_IO_III.pdf\" # Tokens: 25'047 (in); 382 (out); 0.08 USD\n",
    "\n",
    "# https://github.com/anthropics/anthropic-cookbook/blob/main/multimodal/reading_charts_graphs_powerpoints.ipynb\n",
    "# Start by reading in the PDF and encoding it as base64.\n",
    "with open(pdf_filepath, \"rb\") as pdf_file:\n",
    "    binary_data = pdf_file.read()\n",
    "    base_64_encoded_data = base64.b64encode(binary_data)\n",
    "    pdf_data = base_64_encoded_data.decode('utf-8')\n",
    "\n",
    "client = anthropic.Anthropic(default_headers={\n",
    "    \"anthropic-beta\": \"pdfs-2024-09-25\" # While PDF support is in beta, you must pass in the correct beta header\n",
    "    },\n",
    "    # Use keyring or define environmental variable: ANTHROPIC_API_KEY (https://docs.anthropic.com/en/docs/initial-setup#set-your-api-key)\n",
    "    api_key=keyring.get_password('Claude_API_key', 'Medium_API _test'),\n",
    "    )"
   ]
  },
  {
   "cell_type": "code",
   "execution_count": null,
   "metadata": {},
   "outputs": [],
   "source": [
    "# Finally send the API request\n",
    "message = client.beta.messages.create(\n",
    "    model=\"claude-3-5-sonnet-20241022\",\n",
    "    betas=[\"pdfs-2024-09-25\"],\n",
    "    max_tokens=1024,\n",
    "    messages=[\n",
    "        {\n",
    "            \"role\": \"user\",\n",
    "            \"content\": [\n",
    "                {\n",
    "                    \"type\": \"document\",\n",
    "                    \"source\": {\n",
    "                        \"type\": \"base64\",\n",
    "                        \"media_type\": \"application/pdf\",\n",
    "                        \"data\": pdf_data\n",
    "                    }\n",
    "                },\n",
    "                {\n",
    "                    \"type\": \"text\",\n",
    "                    \"text\": \"Extract text from this document.\"\n",
    "                }\n",
    "            ]\n",
    "        }\n",
    "    ],\n",
    ")"
   ]
  },
  {
   "cell_type": "code",
   "execution_count": 14,
   "metadata": {},
   "outputs": [],
   "source": [
    "with open('Claude_pdf_API_test.txt', mode='w', encoding='utf-8') as f: # create a file object\n",
    "    f.writelines(message.content[0].text)"
   ]
  },
  {
   "cell_type": "code",
   "execution_count": 16,
   "metadata": {},
   "outputs": [
    {
     "name": "stdout",
     "output_type": "stream",
     "text": [
      "Here's the extracted text summary from the document, which appears to be a comprehensive chapter on organizational socialization and onboarding:\n",
      "\n",
      "Title: \"Organizational socialization: The effective onboarding of new employees\" by Talya N. Bauer and Berrin Erdogan\n",
      "\n",
      "Key Points:\n",
      "\n",
      "1. Definition: Organizational socialization or onboarding is the process through which new employees transition from being organizational outsiders to insiders.\n",
      "\n",
      "2. Importance:\n",
      "- About 25% of U.S. workers undergo organizational socialization\n",
      "- Workers change jobs approximately 10.2 times over 20 years\n",
      "- Effective socialization leads to positive work attitudes and longer retention\n",
      "- Ineffective socialization can lead to premature departure and resource waste\n",
      "\n",
      "3. Key Components:\n",
      "- New employee characteristics (proactive personality, extraversion, openness)\n",
      "- New employee behaviors (information seeking, feedback seeking, relationship building)\n",
      "- Organizational efforts (socialization tactics, formal orientations, recruitment/previews)\n",
      "\n",
      "4. Adjustment Indicators:\n",
      "- Role clarity\n",
      "- Self-efficacy\n",
      "- Acceptance by organizational insiders\n",
      "- Knowledge of organizational culture\n",
      "\n",
      "5. Outcomes:\n",
      "- Satisfaction\n",
      "- Commitment\n",
      "- Turnover\n",
      "- Performance\n",
      "\n",
      "6. Research Methods:\n",
      "- Typically longitudinal studies\n",
      "- Survey-based\n",
      "- Multiple data sources\n",
      "- Usually within first year of employment\n",
      "\n",
      "7. Future Research Directions:\n",
      "- Need for more research on cultural differences in socialization\n",
      "- Integration with psychological contract literature\n",
      "- Role of socialization in employee well-being and stress\n",
      "- Impact of age and gender differences\n",
      "\n",
      "The document provides a comprehensive academic review of organizational socialization research and practices, integrating theoretical frameworks with practical implications for organizations.\n"
     ]
    }
   ],
   "source": [
    "print(message.content[0].text)"
   ]
  }
 ],
 "metadata": {
  "kernelspec": {
   "display_name": "deepparse_env",
   "language": "python",
   "name": "python3"
  },
  "language_info": {
   "codemirror_mode": {
    "name": "ipython",
    "version": 3
   },
   "file_extension": ".py",
   "mimetype": "text/x-python",
   "name": "python",
   "nbconvert_exporter": "python",
   "pygments_lexer": "ipython3",
   "version": "3.10.2"
  }
 },
 "nbformat": 4,
 "nbformat_minor": 2
}
